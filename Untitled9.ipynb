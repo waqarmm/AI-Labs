{
  "nbformat": 4,
  "nbformat_minor": 0,
  "metadata": {
    "colab": {
      "provenance": [],
      "authorship_tag": "ABX9TyNZMknOrbkeIAguWpgzmEfG",
      "include_colab_link": true
    },
    "kernelspec": {
      "name": "python3",
      "display_name": "Python 3"
    },
    "language_info": {
      "name": "python"
    }
  },
  "cells": [
    {
      "cell_type": "markdown",
      "metadata": {
        "id": "view-in-github",
        "colab_type": "text"
      },
      "source": [
        "<a href=\"https://colab.research.google.com/github/waqarmm/AI-Labs/blob/master/Untitled9.ipynb\" target=\"_parent\"><img src=\"https://colab.research.google.com/assets/colab-badge.svg\" alt=\"Open In Colab\"/></a>"
      ]
    },
    {
      "cell_type": "code",
      "execution_count": 3,
      "metadata": {
        "colab": {
          "base_uri": "https://localhost:8080/"
        },
        "id": "iE9ioxI658vP",
        "outputId": "1a9b1487-2cae-46ca-948b-46b132810a5c"
      },
      "outputs": [
        {
          "output_type": "stream",
          "name": "stdout",
          "text": [
            "Predicted value after pattern: 1\n"
          ]
        }
      ],
      "source": [
        "import csv\n",
        "\n",
        "def extract_patterns(filename):\n",
        "    patterns = []\n",
        "    with open(filename, 'r') as csvfile:\n",
        "        reader = csv.reader(csvfile)\n",
        "        data = []\n",
        "\n",
        "        for row in reader:\n",
        "            for x in row:\n",
        "                if x.isdigit():\n",
        "                    data.append(int(x))\n",
        "\n",
        "        for length in range(2, 30):\n",
        "            for i in range(len(data) - length + 1):\n",
        "                pattern = data[i:i + length]\n",
        "                patterns.append(pattern)\n",
        "\n",
        "    return patterns\n",
        "\n",
        "\n",
        "def create_pattern_matrix(patterns):\n",
        "    matrix = {}\n",
        "\n",
        "    for pattern in patterns:\n",
        "        repetitions = matrix.get(tuple(pattern), 0)\n",
        "        matrix[tuple(pattern)] = repetitions + 1\n",
        "\n",
        "    pattern_matrix = []\n",
        "    for pattern, repetitions in matrix.items():\n",
        "        value_before = pattern[0]\n",
        "        value_after = pattern[-1]\n",
        "        pattern_matrix.append((list(pattern), repetitions, value_before, value_after))\n",
        "\n",
        "    return pattern_matrix\n",
        "\n",
        "\n",
        "def find_matching_patterns(expected_pattern, value_before_pattern, pattern_matrix):\n",
        "    current_pattern = expected_pattern.copy()\n",
        "\n",
        "    while True:\n",
        "        matching_rows = [row for row in pattern_matrix if row[0] == current_pattern and row[1] > 2]\n",
        "\n",
        "        if not matching_rows:\n",
        "            if len(current_pattern) > 1:\n",
        "                current_pattern.pop(0)\n",
        "                value_before_pattern = current_pattern[0]\n",
        "            else:\n",
        "                return None\n",
        "\n",
        "        else:\n",
        "            matching_rows = sorted(matching_rows, key=lambda row: row[1], reverse=True)\n",
        "            best_row = matching_rows[0]\n",
        "\n",
        "            if len(matching_rows) > 1:\n",
        "                matching_rows = [row for row in matching_rows if row[2] == value_before_pattern]\n",
        "                if matching_rows:\n",
        "                    best_row = max(matching_rows, key=lambda row: row[1])\n",
        "\n",
        "            return best_row[3]\n",
        "\n",
        "\n",
        "filename = 'test_dataset.csv'\n",
        "patterns = extract_patterns(filename)\n",
        "pattern_matrix = create_pattern_matrix(patterns)\n",
        "\n",
        "expected_pattern = [0, 1]\n",
        "value_before_pattern = 0\n",
        "\n",
        "predicted_value = find_matching_patterns(expected_pattern, value_before_pattern, pattern_matrix)\n",
        "print(\"Predicted value after pattern:\", predicted_value)\n",
        "\n"
      ]
    }
  ]
}