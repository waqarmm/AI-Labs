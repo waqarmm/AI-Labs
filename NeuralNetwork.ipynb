{
  "nbformat": 4,
  "nbformat_minor": 0,
  "metadata": {
    "colab": {
      "provenance": [],
      "authorship_tag": "ABX9TyNl+e/XirI3U4XebEtpjMPK",
      "include_colab_link": true
    },
    "kernelspec": {
      "name": "python3",
      "display_name": "Python 3"
    },
    "language_info": {
      "name": "python"
    }
  },
  "cells": [
    {
      "cell_type": "markdown",
      "metadata": {
        "id": "view-in-github",
        "colab_type": "text"
      },
      "source": [
        "<a href=\"https://colab.research.google.com/github/waqarmm/AI-Labs/blob/master/NeuralNetwork.ipynb\" target=\"_parent\"><img src=\"https://colab.research.google.com/assets/colab-badge.svg\" alt=\"Open In Colab\"/></a>"
      ]
    },
    {
      "cell_type": "code",
      "execution_count": 2,
      "metadata": {
        "id": "aQUeaCmQDhtM",
        "colab": {
          "base_uri": "https://localhost:8080/"
        },
        "outputId": "4e57fd79-8bdb-41e8-8dfe-d1a8af86373a"
      },
      "outputs": [
        {
          "output_type": "execute_result",
          "data": {
            "text/plain": [
              "array([[1, 1, 0],\n",
              "       [0, 0, 0],\n",
              "       [1, 1, 0]])"
            ]
          },
          "metadata": {},
          "execution_count": 2
        }
      ],
      "source": [
        "import numpy as np\n",
        "def sigmoid(X):\n",
        "  return 1/(1+np.exp(-X))\n",
        "input1=np.array([[1],[0],[1]])\n",
        "input2=np.array([[1,1,0]])\n",
        "np.dot(input1,input2)\n",
        "\n",
        "X=np.array([[0.2],[0.4],[0.6]])\n",
        "\n",
        "W1=np.array([[0.5,0.3,0.2]]) #weight for hidden layer\n",
        "B1=np.array([[0.1]]) #Baises for hidden layer\n",
        "W2=np.array([[0.4],]) #Weights for output layer\n",
        "B2=np.array([[0.2]]) #Bais for output layer\n",
        "\n",
        "\n",
        "#Forward Propagation\n",
        "\n",
        "Z1=np.dot(W1,X)+B1\n",
        "A1=sigmoid(Z1) #Activation of hidden layer\n",
        "\n",
        "\n",
        "\n",
        "\n",
        "\n"
      ]
    }
  ]
}