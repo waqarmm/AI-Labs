{
  "nbformat": 4,
  "nbformat_minor": 0,
  "metadata": {
    "colab": {
      "provenance": [],
      "authorship_tag": "ABX9TyNOPR94+gX/ashbAEOvzylh",
      "include_colab_link": true
    },
    "kernelspec": {
      "name": "python3",
      "display_name": "Python 3"
    },
    "language_info": {
      "name": "python"
    }
  },
  "cells": [
    {
      "cell_type": "markdown",
      "metadata": {
        "id": "view-in-github",
        "colab_type": "text"
      },
      "source": [
        "<a href=\"https://colab.research.google.com/github/waqarmm/AI-Labs/blob/master/svm.ipynb\" target=\"_parent\"><img src=\"https://colab.research.google.com/assets/colab-badge.svg\" alt=\"Open In Colab\"/></a>"
      ]
    },
    {
      "cell_type": "code",
      "execution_count": 2,
      "metadata": {
        "id": "XmSz76eD9IMH"
      },
      "outputs": [],
      "source": [
        "import numpy as np\n",
        "import pandas as pd\n",
        "from sklearn.model_selection import train_test_split\n",
        "from sklearn.metrics import accuracy_score\n",
        "from sklearn.svm import SVC\n",
        "\n",
        "df = pd.read_csv(\"./SVM_dataset.csv\")\n",
        "dt= pd.get_dummies(df, columns=['animal_name','hair','feathers','eggs','milk','airborne','aquatic','predator','toothed','backbone','breathes','venomous','fins','legs','tail','domestic','catsize','class_type'])\n",
        "\n",
        "# print(dt)\n",
        "df = dt\n"
      ]
    },
    {
      "cell_type": "code",
      "source": [
        " print(dt)"
      ],
      "metadata": {
        "colab": {
          "base_uri": "https://localhost:8080/"
        },
        "id": "oSeliCcCBFME",
        "outputId": "10b2111c-3e0e-4214-ef98-466f8d1d2c3a"
      },
      "execution_count": 17,
      "outputs": [
        {
          "output_type": "stream",
          "name": "stdout",
          "text": [
            "     animal_name_1  animal_name_2  animal_name_3  animal_name_4  \\\n",
            "0                1              0              0              0   \n",
            "1                0              1              0              0   \n",
            "2                0              0              1              0   \n",
            "3                0              0              0              1   \n",
            "4                0              0              0              0   \n",
            "..             ...            ...            ...            ...   \n",
            "96               0              0              0              0   \n",
            "97               0              0              0              0   \n",
            "98               0              0              0              0   \n",
            "99               0              0              0              0   \n",
            "100              0              0              0              0   \n",
            "\n",
            "     animal_name_5  animal_name_6  animal_name_7  animal_name_8  \\\n",
            "0                0              0              0              0   \n",
            "1                0              0              0              0   \n",
            "2                0              0              0              0   \n",
            "3                0              0              0              0   \n",
            "4                1              0              0              0   \n",
            "..             ...            ...            ...            ...   \n",
            "96               0              0              0              0   \n",
            "97               0              0              0              0   \n",
            "98               0              0              0              0   \n",
            "99               0              0              0              0   \n",
            "100              0              0              0              0   \n",
            "\n",
            "     animal_name_9  animal_name_10  ...  domestic_1  catsize_0  catsize_1  \\\n",
            "0                0               0  ...           0          0          1   \n",
            "1                0               0  ...           0          0          1   \n",
            "2                0               0  ...           0          1          0   \n",
            "3                0               0  ...           0          0          1   \n",
            "4                0               0  ...           0          0          1   \n",
            "..             ...             ...  ...         ...        ...        ...   \n",
            "96               0               0  ...           0          0          1   \n",
            "97               0               0  ...           0          1          0   \n",
            "98               0               0  ...           0          0          1   \n",
            "99               0               0  ...           0          1          0   \n",
            "100              0               0  ...           0          1          0   \n",
            "\n",
            "     class_type_1  class_type_2  class_type_3  class_type_4  class_type_5  \\\n",
            "0               1             0             0             0             0   \n",
            "1               1             0             0             0             0   \n",
            "2               0             0             0             1             0   \n",
            "3               1             0             0             0             0   \n",
            "4               1             0             0             0             0   \n",
            "..            ...           ...           ...           ...           ...   \n",
            "96              1             0             0             0             0   \n",
            "97              0             0             0             0             0   \n",
            "98              1             0             0             0             0   \n",
            "99              0             0             0             0             0   \n",
            "100             0             1             0             0             0   \n",
            "\n",
            "     class_type_6  class_type_7  \n",
            "0               0             0  \n",
            "1               0             0  \n",
            "2               0             0  \n",
            "3               0             0  \n",
            "4               0             0  \n",
            "..            ...           ...  \n",
            "96              0             0  \n",
            "97              1             0  \n",
            "98              0             0  \n",
            "99              0             1  \n",
            "100             0             0  \n",
            "\n",
            "[101 rows x 144 columns]\n"
          ]
        }
      ]
    },
    {
      "cell_type": "code",
      "source": [
        "X = df.drop(['animal_name_1'],axis=1)\n",
        "# Target/prediction variable\n",
        "Y = df['animal_name_1']\n",
        "# print(X)\n",
        "# print(Y)"
      ],
      "metadata": {
        "id": "8IEBoiP-AqdJ"
      },
      "execution_count": 13,
      "outputs": []
    },
    {
      "cell_type": "code",
      "source": [
        "\n",
        "xtrain,xtest,ytrain,ytest=train_test_split(X,Y,test_size=0.4, random_state=100,shuffle=True)\n",
        "#svm_model=SVC(kernel='linear')\n",
        "svm_model=SVC(kernel='poly')\n",
        "svm_model.fit(xtrain,ytrain)\n",
        "y_pred=svm_model.predict(xtest)\n",
        "accuracy=accuracy_score(ytest,y_pred)\n",
        "print('Accuracy',accuracy)\n",
        ""
      ],
      "metadata": {
        "colab": {
          "base_uri": "https://localhost:8080/"
        },
        "id": "lwgbSR4UCMRN",
        "outputId": "dbed281b-d576-4845-b479-ab99d980c9ca"
      },
      "execution_count": 16,
      "outputs": [
        {
          "output_type": "stream",
          "name": "stdout",
          "text": [
            "Accuracy 1.0\n"
          ]
        }
      ]
    },
    {
      "cell_type": "code",
      "source": [],
      "metadata": {
        "id": "ztsU7kxdHBpE"
      },
      "execution_count": null,
      "outputs": []
    },
    {
      "cell_type": "code",
      "source": [
        "import matplotlib.pyplot as plt\n",
        "from matplotlib.pyplot import figure\n",
        "import seaborn as sns\n",
        "from sklearn.metrics import classification_report,confusion_matrix\n",
        "\n",
        "plt.figure(figsize=(8,10),dpi=100)\n",
        "sns.heatmap(confusion_matrix(ytest,y_pred),annot=True)"
      ],
      "metadata": {
        "colab": {
          "base_uri": "https://localhost:8080/",
          "height": 847
        },
        "id": "ZIgGIY88DOZz",
        "outputId": "5d5138d0-4b03-4ca2-f797-de023fd20e4b"
      },
      "execution_count": 24,
      "outputs": [
        {
          "output_type": "execute_result",
          "data": {
            "text/plain": [
              "<Axes: >"
            ]
          },
          "metadata": {},
          "execution_count": 24
        },
        {
          "output_type": "display_data",
          "data": {
            "text/plain": [
              "<Figure size 800x1000 with 2 Axes>"
            ],
            "image/png": "[encoded data removed]"
          },
          "metadata": {}
        }
      ]
    }
  ]
}