{
  "nbformat": 4,
  "nbformat_minor": 0,
  "metadata": {
    "colab": {
      "provenance": [],
      "authorship_tag": "ABX9TyMLTsVPKiMqlTwxgvp6jT6L",
      "include_colab_link": true
    },
    "kernelspec": {
      "name": "python3",
      "display_name": "Python 3"
    },
    "language_info": {
      "name": "python"
    }
  },
  "cells": [
    {
      "cell_type": "markdown",
      "metadata": {
        "id": "view-in-github",
        "colab_type": "text"
      },
      "source": [
        "<a href=\"https://colab.research.google.com/github/waqarmm/AI-Labs/blob/master/lab5.ipynb\" target=\"_parent\"><img src=\"https://colab.research.google.com/assets/colab-badge.svg\" alt=\"Open In Colab\"/></a>"
      ]
    },
    {
      "cell_type": "code",
      "execution_count": 3,
      "metadata": {
        "colab": {
          "base_uri": "https://localhost:8080/"
        },
        "id": "pwjyIsjSIwKy",
        "outputId": "c14b617a-0d6f-4185-fd5f-5f0372c9bc30"
      },
      "outputs": [
        {
          "output_type": "stream",
          "name": "stdout",
          "text": [
            "Enter stringfdasd sdfasdfas sadfasd\n",
            "Total number of words is : 3\n"
          ]
        }
      ],
      "source": [
        "# #Lab 5\n",
        "# #Task 1\n",
        "# line= input('Enter a line of text:')\n",
        "# print('The line in upper case is :\\n',line.upper())\n",
        "# print('The line is lower case is : \\n', line.lower())\n",
        "\n",
        "\n",
        "\n",
        "#Task 2\n",
        "\n",
        "line =input('Enter string')\n",
        "arr=line.split(' ')\n",
        "print('Total number of words is :' ,len(arr))\n",
        "\n",
        "\n",
        "\n"
      ]
    },
    {
      "cell_type": "code",
      "source": [],
      "metadata": {
        "id": "2hHrwcKafY-f"
      },
      "execution_count": null,
      "outputs": []
    }
  ]
}