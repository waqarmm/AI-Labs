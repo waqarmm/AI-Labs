{
 "cells": [
  {
   "cell_type": "code",
   "execution_count": 10,
   "metadata": {},
   "outputs": [
    {
     "name": "stdout",
     "output_type": "stream",
     "text": [
      "Area of Rectangle 112\n",
      "Area of Circle  36\n"
     ]
    }
   ],
   "source": [
    "\n",
    "#TASK1\n",
    "# class Rectangle:\n",
    "    \n",
    "#     def Area(self,width ,leng):\n",
    "#          return leng*width\n",
    "     \n",
    "     \n",
    "#     def Perimeter(self,length , width):\n",
    "#          return 2*(length+width)\n",
    "     \n",
    "# rect1=  Rectangle();\n",
    "# area= rect1.Area(3,2)\n",
    "# perimeter=rect1.Perimeter(8,3)\n",
    "# print('Area of Rectangle ',area)\n",
    "# print ('Perimeter of rectangle ',perimeter)\n",
    "    \n",
    "    \n",
    "#     #TASK2\n",
    "# class Animal:\n",
    "#      def make_sound(self):\n",
    "#        print(\"Animal is making a sound.\")\n",
    "     \n",
    "# class Dog(Animal):\n",
    "#      def make_sound(self):\n",
    "#        print(\"Dog is barking.\")\n",
    "#      def isAdopted(self):\n",
    "#           return False\n",
    "              \n",
    "# class Cat(Animal):\n",
    "#      def make_sound(self):\n",
    "#        print(\"Cat is meowing.\")\n",
    "#      def Age(self, num):\n",
    "#          return num+2\n",
    "     \n",
    "# animal=Animal()\n",
    "# animal.make_sound()\n",
    "     \n",
    "     \n",
    "# dog = Dog()\n",
    "# dog.make_sound()\n",
    "# print('Dog is Adopted: ',dog.isAdopted())\n",
    "     \n",
    "# cat= Cat()\n",
    "# cat.make_sound()\n",
    "# print('Age of a cat is ',cat.Age(6))\n",
    "\n",
    "\n",
    "#TASK 3\n",
    "\n",
    "class Shape:\n",
    "    def Area(self,length, width):\n",
    "         return length* width\n",
    "     \n",
    "class Rectangle(Shape):\n",
    "    def Area(self, length, width):\n",
    "\t\t    return length*width\n",
    "  \n",
    "class Circle(Shape):\n",
    "    def Area(self, length, width):\n",
    "\t\t   return 2*(length+width)\n",
    " \n",
    " \n",
    "rect= Rectangle()\n",
    "print('Area of Rectangle',rect.Area(2,56))\n",
    "\n",
    "circle=Circle()\n",
    "print('Area of Circle ', circle.Area(10,8))\n",
    " \n",
    " "
   ]
  }
 ],
 "metadata": {
  "kernelspec": {
   "display_name": "base",
   "language": "python",
   "name": "python3"
  },
  "language_info": {
   "codemirror_mode": {
    "name": "ipython",
    "version": 3
   },
   "file_extension": ".py",
   "mimetype": "text/x-python",
   "name": "python",
   "nbconvert_exporter": "python",
   "pygments_lexer": "ipython3",
   "version": "3.10.9"
  },
  "orig_nbformat": 4,
  "vscode": {
   "interpreter": {
    "hash": "03112f3c52b3b7b922397d2df014abe275c0cb2eb2d8eb15de6ce83f884761da"
   }
  }
 },
 "nbformat": 4,
 "nbformat_minor": 2
}
