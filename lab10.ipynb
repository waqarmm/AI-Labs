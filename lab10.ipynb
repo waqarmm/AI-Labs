{
  "nbformat": 4,
  "nbformat_minor": 0,
  "metadata": {
    "colab": {
      "provenance": [],
      "authorship_tag": "ABX9TyMWprKxEcmNZor5AwwOXoYT",
      "include_colab_link": true
    },
    "kernelspec": {
      "name": "python3",
      "display_name": "Python 3"
    },
    "language_info": {
      "name": "python"
    }
  },
  "cells": [
    {
      "cell_type": "markdown",
      "metadata": {
        "id": "view-in-github",
        "colab_type": "text"
      },
      "source": [
        "<a href=\"https://colab.research.google.com/github/waqarmm/AI-Labs/blob/master/lab10.ipynb\" target=\"_parent\"><img src=\"https://colab.research.google.com/assets/colab-badge.svg\" alt=\"Open In Colab\"/></a>"
      ]
    },
    {
      "cell_type": "code",
      "execution_count": 12,
      "metadata": {
        "id": "8ewrnCfQn6Lh"
      },
      "outputs": [],
      "source": [
        "import numpy as np\n",
        "import pandas as pd\n",
        "from sklearn.model_selection import train_test_split\n",
        "from sklearn.metrics import accuracy_score\n",
        "from sklearn.svm import SVC\n",
        "\n",
        "df = pd.read_csv(\"./titanic_clean.csv\")\n",
        "dt= pd.get_dummies(df, columns=['Pclass', 'Sex', 'Embarked', 'Title', 'GrpSize', 'FareCat', 'AgeCat'])\n",
        "\n",
        "#print(dt)\n",
        "df = dt\n",
        "# Remove label and extra features\n",
        "\n"
      ]
    },
    {
      "cell_type": "code",
      "source": [
        "X = df.drop(['Survived','PassengerId'],axis=1)\n",
        "# Target/prediction variable\n",
        "Y = df['Survived']\n"
      ],
      "metadata": {
        "id": "g3a4OxgTxYm_"
      },
      "execution_count": 13,
      "outputs": []
    },
    {
      "cell_type": "code",
      "source": [
        "xtrain,xtest,ytrain,ytest=train_test_split(X,Y,test_size=0.3, random_state=100,shuffle=True)\n",
        "svm_model=SVC(kernel='linear')\n",
        "svm_model.fit(xtrain,ytrain)\n",
        "y_pred=svm_model.predict(xtest)\n",
        "accuracy=accuracy_score(ytest,y_pred)\n",
        "print('Accuracy',accuracy)"
      ],
      "metadata": {
        "colab": {
          "base_uri": "https://localhost:8080/"
        },
        "id": "GaBR2w37yN05",
        "outputId": "ceb2976a-eaba-4386-b7c6-b6a28f45247a"
      },
      "execution_count": 14,
      "outputs": [
        {
          "output_type": "stream",
          "name": "stdout",
          "text": [
            "Accuracy 0.8432835820895522\n"
          ]
        }
      ]
    }
  ]
}