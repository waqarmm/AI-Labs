{
 "cells": [
  {
   "cell_type": "code",
   "execution_count": 5,
   "metadata": {},
   "outputs": [
    {
     "name": "stdout",
     "output_type": "stream",
     "text": [
      "Index of 9362 is  3\n",
      "Extended list [4353, 2314, 2956, 9362, 9362, 5566]\n",
      "Reverse  ids [5566, 9362, 9362, 2956, 2314, 4353]\n",
      "Reverse  ids [2314, 2956, 4353, 5566, 9362, 9362]\n"
     ]
    }
   ],
   "source": [
    "# #Lab 5\n",
    "# #Task 1\n",
    "# line= input('Enter a line of text:')\n",
    "# print('The line in upper case is :\\n',line.upper())\n",
    "# print('The line is lower case is : \\n', line.lower())\n",
    "\n",
    "\n",
    "\n",
    "#Task 2\n",
    "\n",
    "# line =input('Enter string')\n",
    "# arr=line.split(' ')\n",
    "# print('Total number of words is :' ,len(arr))\n",
    "\n",
    "#Task3\n",
    "# s=input('Enter a string')\n",
    "# #To Lower\n",
    "# s=s.lower()\n",
    "# #Remove periods and commas\n",
    "# s=s.replace('.','').replace(',','')\n",
    "\n",
    "# print('Result is :',s)\n",
    "\n",
    "\n",
    "# #Task 4\n",
    "# ids=[4353, 2314, 2956, 3382, 9362, 3900]\n",
    "# #a. Remove 3382 from the list.\n",
    "# ids.remove(3382)\n",
    "# index= ids.index(9362)\n",
    "# print('Index of 9362 is ',index)\n",
    "# ids[index+1]=9362\n",
    "# #Extend the list by adding [5566, 1830] to it.\n",
    "# ids.append(5566)\n",
    "# ids.append(1830)\n",
    "# print('Extended list',ids)\n",
    "# #e. Reverse the list\n",
    "# ids.reverse()\n",
    "# print('Reverse  ids',ids)\n",
    "# #f. Sort the list.\n",
    "# ids.sort()\n",
    "# print('Reverse  ids',ids)\n",
    "\n",
    "\n",
    "#TASK 5\n",
    "import math\n",
    "  def countOccurence():\n",
    "    \n",
    "\n",
    "dice1=0\n",
    "dice2=0\n",
    "listoutcomes=[]\n",
    "for i in range(1,10000):\n",
    "    outcome1=int(math.random())\n",
    "    while outcome1<1 and outcome1>12:\n",
    "          outcome1=math.random()\n",
    "    listoutcomes.append(outcome1)     \n",
    "    outcome2=int(math.random())\n",
    "    while outcome2<1 and outcome2>12:\n",
    "          outcome2=math.random()\n",
    "    listoutcomes.append(outcome2)     \n",
    "\n",
    "print('2 in the list is',listoutcomes)\n",
    "    \n",
    "            "
   ]
  },
  {
   "cell_type": "code",
   "execution_count": null,
   "metadata": {},
   "outputs": [],
   "source": []
  }
 ],
 "metadata": {
  "kernelspec": {
   "display_name": "base",
   "language": "python",
   "name": "python3"
  },
  "language_info": {
   "codemirror_mode": {
    "name": "ipython",
    "version": 3
   },
   "file_extension": ".py",
   "mimetype": "text/x-python",
   "name": "python",
   "nbconvert_exporter": "python",
   "pygments_lexer": "ipython3",
   "version": "3.10.9"
  },
  "orig_nbformat": 4,
  "vscode": {
   "interpreter": {
    "hash": "03112f3c52b3b7b922397d2df014abe275c0cb2eb2d8eb15de6ce83f884761da"
   }
  }
 },
 "nbformat": 4,
 "nbformat_minor": 2
}
