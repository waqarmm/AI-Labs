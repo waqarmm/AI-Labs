{
  "nbformat": 4,
  "nbformat_minor": 0,
  "metadata": {
    "colab": {
      "provenance": [],
      "authorship_tag": "ABX9TyO4tA89s5BM84IxlWTOnbWo",
      "include_colab_link": true
    },
    "kernelspec": {
      "name": "python3",
      "display_name": "Python 3"
    },
    "language_info": {
      "name": "python"
    }
  },
  "cells": [
    {
      "cell_type": "markdown",
      "metadata": {
        "id": "view-in-github",
        "colab_type": "text"
      },
      "source": [
        "<a href=\"https://colab.research.google.com/github/waqarmm/AI-Labs/blob/master/variance.ipynb\" target=\"_parent\"><img src=\"https://colab.research.google.com/assets/colab-badge.svg\" alt=\"Open In Colab\"/></a>"
      ]
    },
    {
      "cell_type": "code",
      "execution_count": 12,
      "metadata": {
        "colab": {
          "base_uri": "https://localhost:8080/"
        },
        "id": "gi2-87x5G7l_",
        "outputId": "2b469522-06ef-4edf-ddbc-a63334283a72"
      },
      "outputs": [
        {
          "output_type": "stream",
          "name": "stdout",
          "text": [
            "[4 8 5 9 1]\n",
            "8.24 v1\n",
            "34.0 v2\n",
            "v2 is greater\n"
          ]
        }
      ],
      "source": [
        "import numpy as np\n",
        "import pandas as pd\n",
        "\n",
        "randnums= np.random.randint(1,10,5)\n",
        "randnums1= np.random.randint(1,20,5)\n",
        "print(randnums)\n",
        "v=variance(randnums)\n",
        "v2=variance(randnums1)\n",
        "\n",
        "print(v,'v1')\n",
        "print(v2,'v2')\n",
        "if(v>v2):\n",
        "  print('v1 is greater than v2')\n",
        "else:\n",
        "  print('v2 is greater')\n"
      ]
    },
    {
      "cell_type": "code",
      "source": [
        "def variance(data):\n",
        "    # Number of observations\n",
        "    n = len(data)\n",
        "    # Mean of the data\n",
        "    mean = sum(data) / n\n",
        "    # Square deviations\n",
        "    deviations = [(x - mean) ** 2 for x in data]\n",
        "    # Variance\n",
        "    variance = sum(deviations) / n\n",
        "    return variance"
      ],
      "metadata": {
        "id": "P_DCh0zYHygb"
      },
      "execution_count": 5,
      "outputs": []
    },
    {
      "cell_type": "code",
      "source": [],
      "metadata": {
        "id": "ebwIzbruH4pb"
      },
      "execution_count": null,
      "outputs": []
    }
  ]
}