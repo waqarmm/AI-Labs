{
  "nbformat": 4,
  "nbformat_minor": 0,
  "metadata": {
    "colab": {
      "provenance": [],
      "authorship_tag": "ABX9TyPPCQF+A1vrdtvNGI0gz3Lp",
      "include_colab_link": true
    },
    "kernelspec": {
      "name": "python3",
      "display_name": "Python 3"
    },
    "language_info": {
      "name": "python"
    }
  },
  "cells": [
    {
      "cell_type": "markdown",
      "metadata": {
        "id": "view-in-github",
        "colab_type": "text"
      },
      "source": [
        "<a href=\"https://colab.research.google.com/github/waqarmm/AI-Labs/blob/master/Logistic_Regression.ipynb\" target=\"_parent\"><img src=\"https://colab.research.google.com/assets/colab-badge.svg\" alt=\"Open In Colab\"/></a>"
      ]
    },
    {
      "cell_type": "code",
      "execution_count": 11,
      "metadata": {
        "colab": {
          "base_uri": "https://localhost:8080/"
        },
        "id": "KZfZIbEx1YET",
        "outputId": "983c98d5-be73-4014-8779-8de556bcb787"
      },
      "outputs": [
        {
          "output_type": "stream",
          "name": "stdout",
          "text": [
            "<class 'pandas.core.frame.DataFrame'>\n",
            "RangeIndex: 100 entries, 0 to 99\n",
            "Data columns (total 3 columns):\n",
            " #   Column  Non-Null Count  Dtype  \n",
            "---  ------  --------------  -----  \n",
            " 0   length  100 non-null    float64\n",
            " 1   width   100 non-null    float64\n",
            " 2   Type    100 non-null    int64  \n",
            "dtypes: float64(2), int64(1)\n",
            "memory usage: 2.5 KB\n"
          ]
        }
      ],
      "source": [
        "import pandas as pd\n",
        "import numpy as np\n",
        "import matplotlib.pyplot as plt\n",
        "from mpl_toolkits import mplot3d\n",
        "import matplotlib.pyplot as plt\n",
        "from sklearn.model_selection import train_test_split\n",
        "from sklearn import metrics\n",
        "from sklearn.metrics import mean_absolute_error\n",
        "from sklearn.linear_model import LogisticRegression\n",
        "from sklearn.metrics import accuracy_score\n",
        "import scipy\n",
        "\n",
        "lr=pd.read_csv('./Logistic_Regression_dataset.csv')\n",
        "lr.info()"
      ]
    },
    {
      "cell_type": "code",
      "source": [],
      "metadata": {
        "id": "W4ij9KlX5XRD"
      },
      "execution_count": null,
      "outputs": []
    },
    {
      "cell_type": "code",
      "source": [
        "def readData(file_name):\n",
        "  data=pd.read_csv(file_name)\n",
        "  X=data[['length','width']]\n",
        "  y=data['Type']\n",
        "  X=np.concatenate((np.ones((X.shape[0],1)),X),axis=1)\n",
        "  return X,y\n",
        "\n"
      ],
      "metadata": {
        "id": "pHRsV_lS5Y9V"
      },
      "execution_count": 13,
      "outputs": []
    },
    {
      "cell_type": "code",
      "source": [
        "X,y=readData('./Logistic_Regression_dataset.csv')\n",
        "\n",
        "# print(X)\n",
        "# print(y)"
      ],
      "metadata": {
        "id": "nbFxXtVr2LaJ"
      },
      "execution_count": 16,
      "outputs": []
    },
    {
      "cell_type": "code",
      "source": [
        "def LogisticRegressionModel(X_train,X_test,y_train,y_test):\n",
        "  reg=LogisticRegression(random_state=0).fit(X_train,y_train)\n",
        "  train_Acc=reg.score(X_train,y_train)\n",
        "  test_Acc=reg.score(X_test,y_test)\n",
        "  y_train_pred=reg.predict(X_train)\n",
        "  y_test_pred=reg.predict(X_test)\n",
        "  train_error=metrics.mean_absolute_error(y_train,y_train_pred)/1000\n",
        "  test_error=metrics.mean_absolute_error(y_test,y_test_pred)/1000\n",
        "  coef=reg.coef_\n",
        "  return test_Acc,train_Acc,train_error,test_error,coef"
      ],
      "metadata": {
        "id": "TlE6-ZiE6v7E"
      },
      "execution_count": 23,
      "outputs": []
    },
    {
      "cell_type": "code",
      "source": [
        "X_train,X_test,y_train,y_test=train_test_split(X,y,test_size=0.2)\n",
        "test_Acc,train_Acc,train_error,test_error,coef=LogisticRegressionModel(X_train,X_test,y_train,y_test)\n",
        "\n",
        "print(\"TEST ACCURACCY\",test_Acc,\"TRAIN ACCURACCY\",train_Acc,\"train_error\",train_error)"
      ],
      "metadata": {
        "colab": {
          "base_uri": "https://localhost:8080/"
        },
        "id": "20XZqBDb7nEj",
        "outputId": "1be76d39-60c1-406e-f3a5-0ee15c968a7a"
      },
      "execution_count": 24,
      "outputs": [
        {
          "output_type": "stream",
          "name": "stdout",
          "text": [
            "TEST ACCURACCY 1.0 TRAIN ACCURACCY 1.0 train_error 0.0\n"
          ]
        }
      ]
    }
  ]
}