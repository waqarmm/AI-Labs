{
  "nbformat": 4,
  "nbformat_minor": 0,
  "metadata": {
    "colab": {
      "provenance": [],
      "authorship_tag": "ABX9TyMjGJ4KEeiI+Vj4S6Y5IO18",
      "include_colab_link": true
    },
    "kernelspec": {
      "name": "python3",
      "display_name": "Python 3"
    },
    "language_info": {
      "name": "python"
    }
  },
  "cells": [
    {
      "cell_type": "markdown",
      "metadata": {
        "id": "view-in-github",
        "colab_type": "text"
      },
      "source": [
        "<a href=\"https://colab.research.google.com/github/waqarmm/AI-Labs/blob/master/Logistic_Regression.ipynb\" target=\"_parent\"><img src=\"https://colab.research.google.com/assets/colab-badge.svg\" alt=\"Open In Colab\"/></a>"
      ]
    },
    {
      "cell_type": "code",
      "execution_count": 11,
      "metadata": {
        "colab": {
          "base_uri": "https://localhost:8080/"
        },
        "id": "KZfZIbEx1YET",
        "outputId": "983c98d5-be73-4014-8779-8de556bcb787"
      },
      "outputs": [
        {
          "output_type": "stream",
          "name": "stdout",
          "text": [
            "<class 'pandas.core.frame.DataFrame'>\n",
            "RangeIndex: 100 entries, 0 to 99\n",
            "Data columns (total 3 columns):\n",
            " #   Column  Non-Null Count  Dtype  \n",
            "---  ------  --------------  -----  \n",
            " 0   length  100 non-null    float64\n",
            " 1   width   100 non-null    float64\n",
            " 2   Type    100 non-null    int64  \n",
            "dtypes: float64(2), int64(1)\n",
            "memory usage: 2.5 KB\n"
          ]
        }
      ],
      "source": [
        "import pandas as pd\n",
        "import numpy as np\n",
        "import matplotlib.pyplot as plt\n",
        "from mpl_toolkits import mplot3d\n",
        "import matplotlib.pyplot as plt\n",
        "from sklearn.model_selection import train_test_split\n",
        "from sklearn import metrics\n",
        "from sklearn.metrics import mean_absolute_error\n",
        "from sklearn.linear_model import LogisticRegression\n",
        "from sklearn.metrics import accuracy_score\n",
        "import scipy\n",
        "\n",
        "lr=pd.read_csv('./Logistic_Regression_dataset.csv')\n",
        "\n",
        "lr.info()"
      ]
    },
    {
      "cell_type": "code",
      "source": [],
      "metadata": {
        "id": "W4ij9KlX5XRD"
      },
      "execution_count": null,
      "outputs": []
    },
    {
      "cell_type": "code",
      "source": [
        "def readData(file_name):\n",
        "  data=pd.read_csv(file_name)\n",
        "  X=data[['length','width']]\n",
        "  y=data['Type']\n",
        "  X=np.concatenate((np.ones((X.shape[0],1)),X),axis=1)\n",
        "  return X,y\n",
        "\n"
      ],
      "metadata": {
        "id": "pHRsV_lS5Y9V"
      },
      "execution_count": 13,
      "outputs": []
    },
    {
      "cell_type": "code",
      "source": [
        "X,y=readData('./Logistic_Regression_dataset.csv')\n",
        "\n",
        "# print(X)\n",
        "# print(y)"
      ],
      "metadata": {
        "id": "nbFxXtVr2LaJ"
      },
      "execution_count": 16,
      "outputs": []
    },
    {
      "cell_type": "code",
      "source": [
        "def LogisticRegressionModel(X_train,X_test,y_train,y_test):\n",
        "  reg=LogisticRegression(random_state=0).fit(X_train,y_train)\n",
        "  train_Acc=reg.score(X_train,y_train)\n",
        "  test_Acc=reg.score(X_test,y_test)\n",
        "  y_train_pred=reg.predict(X_train)\n",
        "  y_test_pred=reg.predict(X_test)\n",
        "  train_error=metrics.mean_absolute_error(y_train,y_train_pred)/1000\n",
        "  test_error=metrics.mean_absolute_error(y_test,y_test_pred)/1000\n",
        "  coef=reg.coef_\n",
        "  return test_Acc,train_Acc,train_error,test_error,coef"
      ],
      "metadata": {
        "id": "TlE6-ZiE6v7E"
      },
      "execution_count": 23,
      "outputs": []
    },
    {
      "cell_type": "code",
      "source": [
        "X_train,X_test,y_train,y_test=train_test_split(X,y,test_size=0.2)\n",
        "test_Acc,train_Acc,train_error,test_error,coef=LogisticRegressionModel(X_train,X_test,y_train,y_test)\n",
        "\n",
        "print(\"TEST ACCURACCY\",test_Acc,\"TRAIN ACCURACCY\",train_Acc,\"train_error\",train_error)\n",
        "\n",
        "#plt.imshow(X_train,y_train)\n",
        "print(X_train[:500000000000])\n",
        "print(y_test[:10000000000000])\n"
      ],
      "metadata": {
        "colab": {
          "base_uri": "https://localhost:8080/"
        },
        "id": "20XZqBDb7nEj",
        "outputId": "45a6a58f-45f4-43d4-910b-99d08d249265"
      },
      "execution_count": 36,
      "outputs": [
        {
          "output_type": "stream",
          "name": "stdout",
          "text": [
            "TEST ACCURACCY 1.0 TRAIN ACCURACCY 1.0 train_error 0.0\n",
            "[[1.  6.1 2.9]\n",
            " [1.  5.4 3.4]\n",
            " [1.  6.  3.4]\n",
            " [1.  5.6 2.9]\n",
            " [1.  6.1 2.8]\n",
            " [1.  4.5 2.3]\n",
            " [1.  6.6 2.9]\n",
            " [1.  6.9 3.1]\n",
            " [1.  5.2 2.7]\n",
            " [1.  4.9 3.1]\n",
            " [1.  4.8 3.4]\n",
            " [1.  4.8 3. ]\n",
            " [1.  6.4 3.2]\n",
            " [1.  5.1 3.7]\n",
            " [1.  4.6 3.2]\n",
            " [1.  4.3 3. ]\n",
            " [1.  5.1 3.5]\n",
            " [1.  5.7 2.8]\n",
            " [1.  5.1 3.8]\n",
            " [1.  6.3 2.3]\n",
            " [1.  4.8 3. ]\n",
            " [1.  5.  2. ]\n",
            " [1.  5.5 4.2]\n",
            " [1.  5.8 2.6]\n",
            " [1.  6.  2.2]\n",
            " [1.  5.5 3.5]\n",
            " [1.  5.9 3.2]\n",
            " [1.  4.4 3.2]\n",
            " [1.  5.5 2.4]\n",
            " [1.  7.  3.2]\n",
            " [1.  5.4 3.7]\n",
            " [1.  4.6 3.1]\n",
            " [1.  4.4 3. ]\n",
            " [1.  5.8 2.7]\n",
            " [1.  5.  3.4]\n",
            " [1.  5.8 2.7]\n",
            " [1.  5.  3.6]\n",
            " [1.  6.1 3. ]\n",
            " [1.  4.6 3.6]\n",
            " [1.  6.7 3.1]\n",
            " [1.  5.2 3.4]\n",
            " [1.  6.  2.9]\n",
            " [1.  6.7 3.1]\n",
            " [1.  4.7 3.2]\n",
            " [1.  5.1 3.3]\n",
            " [1.  6.3 3.3]\n",
            " [1.  6.3 2.5]\n",
            " [1.  5.  2.3]\n",
            " [1.  4.9 2.4]\n",
            " [1.  6.2 2.2]\n",
            " [1.  5.7 4.4]\n",
            " [1.  5.  3.4]\n",
            " [1.  5.4 3.4]\n",
            " [1.  5.7 2.9]\n",
            " [1.  5.6 3. ]\n",
            " [1.  4.8 3.1]\n",
            " [1.  5.2 4.1]\n",
            " [1.  5.1 3.8]\n",
            " [1.  4.9 3.1]\n",
            " [1.  6.1 2.8]\n",
            " [1.  5.6 2.7]\n",
            " [1.  5.1 3.8]\n",
            " [1.  6.6 3. ]\n",
            " [1.  4.7 3.2]\n",
            " [1.  5.1 3.5]\n",
            " [1.  5.5 2.6]\n",
            " [1.  5.  3.5]\n",
            " [1.  6.5 2.8]\n",
            " [1.  5.4 3. ]\n",
            " [1.  5.3 3.7]\n",
            " [1.  5.7 2.6]\n",
            " [1.  4.8 3.4]\n",
            " [1.  4.9 3. ]\n",
            " [1.  5.  3.3]\n",
            " [1.  5.4 3.9]\n",
            " [1.  5.8 4. ]\n",
            " [1.  5.5 2.3]\n",
            " [1.  5.5 2.4]\n",
            " [1.  5.  3.2]\n",
            " [1.  6.2 2.9]]\n",
            "18    0\n",
            "69    1\n",
            "74    1\n",
            "37    0\n",
            "55    1\n",
            "77    1\n",
            "40    0\n",
            "61    1\n",
            "5     0\n",
            "89    1\n",
            "25    0\n",
            "6     0\n",
            "95    1\n",
            "98    1\n",
            "8     0\n",
            "76    1\n",
            "83    1\n",
            "39    0\n",
            "66    1\n",
            "27    0\n",
            "Name: Type, dtype: int64\n"
          ]
        }
      ]
    }
  ]
}