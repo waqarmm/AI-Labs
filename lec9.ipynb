{
  "nbformat": 4,
  "nbformat_minor": 0,
  "metadata": {
    "colab": {
      "provenance": [],
      "authorship_tag": "ABX9TyOx9k3PxjoMMlPJtCe0Dsbh",
      "include_colab_link": true
    },
    "kernelspec": {
      "name": "python3",
      "display_name": "Python 3"
    },
    "language_info": {
      "name": "python"
    }
  },
  "cells": [
    {
      "cell_type": "markdown",
      "metadata": {
        "id": "view-in-github",
        "colab_type": "text"
      },
      "source": [
        "<a href=\"https://colab.research.google.com/github/waqarmm/AI-Labs/blob/master/lec9.ipynb\" target=\"_parent\"><img src=\"https://colab.research.google.com/assets/colab-badge.svg\" alt=\"Open In Colab\"/></a>"
      ]
    },
    {
      "cell_type": "code",
      "execution_count": 11,
      "metadata": {
        "colab": {
          "base_uri": "https://localhost:8080/"
        },
        "id": "VcVEaDn8MHh5",
        "outputId": "4f69fae6-8808-4685-b5b9-0ce40fe94e1f"
      },
      "outputs": [
        {
          "output_type": "stream",
          "name": "stdout",
          "text": [
            "DecisionTreeClassifier()\n"
          ]
        }
      ],
      "source": [
        "import numpy as np\n",
        "import pandas as pd\n",
        "from sklearn.model_selection import train_test_split\n",
        "from sklearn.metrics import accuracy_score\n",
        "from sklearn.tree import DecisionTreeClassifier\n",
        "df=pd.read_csv(\"./sample_data/titanic_clean.csv\")\n",
        "df_OneHot=pd.get_dummies(df,columns=['Pclass','Sex','Embarked','Title','GrpSize','FareCat','AgeCat'])\n",
        "df=df_OneHot.copy()\n",
        "\n",
        "x=df.drop(['Survived','PassengerId'],axis=1)\n",
        "y=df['Survived']\n",
        "xtrain,xtest,ytrain,ytest=train_test_split(x,y,test_size=0.3,random_state=100,shuffle=True)\n",
        "\n",
        "clf_dt=DecisionTreeClassifier(criterion='gini')# check criterias \n",
        "clf_dt.fit(xtrain,ytrain)\n",
        "#print(clf_dt.fit(xtrain,ytrain))"
      ]
    }
  ]
}