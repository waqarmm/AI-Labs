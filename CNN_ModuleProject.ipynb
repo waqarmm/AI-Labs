{
  "cells": [
    {
      "cell_type": "markdown",
      "metadata": {
        "id": "view-in-github",
        "colab_type": "text"
      },
      "source": [
        "<a href=\"https://colab.research.google.com/github/waqarmm/AI-Labs/blob/master/CNN_ModuleProject.ipynb\" target=\"_parent\"><img src=\"https://colab.research.google.com/assets/colab-badge.svg\" alt=\"Open In Colab\"/></a>"
      ]
    },
    {
      "cell_type": "code",
      "execution_count": null,
      "metadata": {
        "colab": {
          "base_uri": "https://localhost:8080/"
        },
        "id": "eEvbJ1Yv8lDr",
        "outputId": "f8d24e7d-5295-4dfa-d718-864976906275"
      },
      "outputs": [
        {
          "name": "stdout",
          "output_type": "stream",
          "text": [
            "File Count: 45496\n"
          ]
        }
      ],
      "source": [
        "import fnmatch\n",
        "\n",
        "dir_path = r'/content/drive/MyDrive/origin1'\n",
        "count = len(fnmatch.filter(os.listdir(dir_path), '*.*'))\n",
        "print('File Count:', count)"
      ]
    },
    {
      "cell_type": "code",
      "execution_count": null,
      "metadata": {
        "colab": {
          "base_uri": "https://localhost:8080/"
        },
        "id": "rr5-w1t7Alx2",
        "outputId": "d643721e-ee58-427c-a282-eb2174b0e1be"
      },
      "outputs": [
        {
          "data": {
            "text/plain": [
              "45496"
            ]
          },
          "execution_count": 9,
          "metadata": {},
          "output_type": "execute_result"
        }
      ],
      "source": [
        "len(os.listdir('/content/drive/MyDrive/origin1'))"
      ]
    },
    {
      "cell_type": "code",
      "execution_count": null,
      "metadata": {
        "colab": {
          "base_uri": "https://localhost:8080/"
        },
        "id": "UtZBU99Gpng5",
        "outputId": "ed07ce65-5ce9-418d-a2f5-42c7d853ffcc"
      },
      "outputs": [
        {
          "output_type": "stream",
          "name": "stdout",
          "text": [
            "Drive already mounted at /content/drive; to attempt to forcibly remount, call drive.mount(\"/content/drive\", force_remount=True).\n"
          ]
        }
      ],
      "source": [
        "from google.colab import drive\n",
        "drive.mount('/content/drive')"
      ]
    },
    {
      "cell_type": "code",
      "execution_count": null,
      "metadata": {
        "colab": {
          "base_uri": "https://localhost:8080/"
        },
        "id": "Uke_srZm6k9P",
        "outputId": "ec812098-cec6-4de5-ba18-4f0fe0a760c0"
      },
      "outputs": [
        {
          "name": "stdout",
          "output_type": "stream",
          "text": [
            "Number of images: 106962\n"
          ]
        }
      ],
      "source": [
        "import os\n",
        "\n",
        "images_directory = '/content/origin/'\n",
        "os.chdir(images_directory)\n",
        "image_extensions = ['.jpg', '.jpeg', '.png', '.gif', '.bmp']  # Add more if needed\n",
        "image_count = sum(1 for file in os.listdir('.') if file.lower().endswith(tuple(image_extensions)))\n",
        "\n",
        "print(\"Number of images:\", image_count)"
      ]
    },
    {
      "cell_type": "code",
      "execution_count": null,
      "metadata": {
        "colab": {
          "base_uri": "https://localhost:8080/"
        },
        "id": "VXaHhT40j3Gp",
        "outputId": "1bb531bb-da9a-4270-87a5-794e362a855a"
      },
      "outputs": [
        {
          "data": {
            "text/plain": [
              "106962"
            ]
          },
          "execution_count": 14,
          "metadata": {},
          "output_type": "execute_result"
        }
      ],
      "source": [
        "len(os.listdir('/content/origin/'))"
      ]
    },
    {
      "cell_type": "code",
      "execution_count": null,
      "metadata": {
        "id": "8YChvQvKln0s"
      },
      "outputs": [],
      "source": [
        "!cp -r '/content/origin/' '/content/drive/MyDrive/Colab Notebooks/'"
      ]
    },
    {
      "cell_type": "code",
      "execution_count": null,
      "metadata": {
        "colab": {
          "base_uri": "https://localhost:8080/"
        },
        "id": "2khtIuADsUMD",
        "outputId": "5c8008ab-0f3c-4fc4-89c9-fa893e6c7040"
      },
      "outputs": [
        {
          "name": "stdout",
          "output_type": "stream",
          "text": [
            "origin.7z.001  origin.7z.003  origin.7z.005  origin.7z.007\n",
            "origin.7z.002  origin.7z.004  origin.7z.006  origin.7z.008\n"
          ]
        }
      ],
      "source": [
        "ls '/content/drive/MyDrive/Colab Notebooks/data/image'"
      ]
    },
    {
      "cell_type": "code",
      "execution_count": null,
      "metadata": {
        "colab": {
          "base_uri": "https://localhost:8080/"
        },
        "id": "x0PSqGEzrSri",
        "outputId": "196bbe94-d5f7-4a91-b458-ee2414f05d00"
      },
      "outputs": [
        {
          "name": "stdout",
          "output_type": "stream",
          "text": [
            "label.lst  readme.txt\n"
          ]
        }
      ],
      "source": [
        "ls '/content/drive/MyDrive/Colab Notebooks/data/label'"
      ]
    },
    {
      "cell_type": "code",
      "execution_count": null,
      "metadata": {
        "id": "7ANZb51wn_RO"
      },
      "outputs": [],
      "source": [
        "!cd '/content/drive/MyDrive/Colab Notebooks/'"
      ]
    },
    {
      "cell_type": "code",
      "execution_count": null,
      "metadata": {
        "id": "l6opotSXo31H"
      },
      "outputs": [],
      "source": [
        "!mkdir '/content/drive/MyDrive/origin1_labels/'"
      ]
    },
    {
      "cell_type": "code",
      "execution_count": null,
      "metadata": {
        "id": "Mg7Dtv2-oTTF"
      },
      "outputs": [],
      "source": [
        "!mkdir labels"
      ]
    },
    {
      "cell_type": "code",
      "execution_count": null,
      "metadata": {
        "id": "tg_ObFVknuvp"
      },
      "outputs": [],
      "source": [
        "cp '/content/drive/MyDrive/Colab Notebooks/data/label/label.lst' '/content/drive/MyDrive/origin1_labels/'"
      ]
    },
    {
      "cell_type": "markdown",
      "source": [],
      "metadata": {
        "id": "ETKhtjzOqhNZ"
      }
    },
    {
      "cell_type": "code",
      "execution_count": null,
      "metadata": {
        "id": "pDUEsuSNrl4P"
      },
      "outputs": [],
      "source": []
    },
    {
      "cell_type": "markdown",
      "metadata": {
        "id": "lMC0hzSXsMZI"
      },
      "source": [
        "**Image Preprocessing **bold text** **"
      ]
    },
    {
      "cell_type": "code",
      "execution_count": null,
      "metadata": {
        "colab": {
          "background_save": true
        },
        "id": "BwX0NeJjeEtb"
      },
      "outputs": [],
      "source": [
        "import tensorflow as tf\n",
        "from tensorflow.keras.preprocessing.image import load_img,img_to_array\n",
        "def preprocess_img(path,target_size=(128,128)):\n",
        "\n",
        "  img=load_img(path,target_size=target_size)\n",
        "  img_array=img_to_array(img)\n",
        "  img_array=img_array/255.0\n",
        "  return img_array\n"
      ]
    },
    {
      "cell_type": "markdown",
      "source": [
        "**Crop and Resize Given dataset Images**"
      ],
      "metadata": {
        "id": "-Vw1v_FmDhOF"
      }
    },
    {
      "cell_type": "code",
      "execution_count": null,
      "metadata": {
        "id": "7ou120YQWByp",
        "colab": {
          "base_uri": "https://localhost:8080/"
        },
        "outputId": "5ba5afba-e73e-4d26-9216-36bd2546adbc"
      },
      "outputs": [
        {
          "output_type": "stream",
          "name": "stdout",
          "text": [
            "Cropped and resized face images saved to folder: /content/drive/MyDrive/Colab Notebooks/Cropped_Images/\n"
          ]
        }
      ],
      "source": [
        "import os\n",
        "import cv2\n",
        "\n",
        "output_folder = \"/content/drive/MyDrive/Colab Notebooks/Cropped_Images/\"\n",
        "os.makedirs(output_folder, exist_ok=True)\n",
        "\n",
        "with open(labels_path, 'r') as f:\n",
        "    for line in f:\n",
        "        values = line.strip().split()\n",
        "        img_name = values[0]\n",
        "        face_box_top = int(values[2])\n",
        "        face_box_left = int(values[3])\n",
        "        face_box_right = int(values[4])\n",
        "        face_box_bottom = int(values[5])\n",
        "        label = int(values[7])\n",
        "        img_path = os.path.join(dset_path, img_name)\n",
        "        img = cv2.imread(img_path)\n",
        "        if img is not None:\n",
        "            cropped_img = img[face_box_top:face_box_bottom, face_box_left:face_box_right]\n",
        "            if cropped_img is not None:\n",
        "                resized_face = cv2.resize(cropped_img, (128, 128))\n",
        "                normalized_face = resized_face / 255.0\n",
        "\n",
        "\n",
        "                output_filename = img_name\n",
        "\n",
        "\n",
        "                output_path = os.path.join(output_folder, output_filename)\n",
        "                cv2.imwrite(output_path, cropped_img)\n",
        "\n",
        "print(\"Cropped and resized!!\", output_folder)\n",
        "\n"
      ]
    },
    {
      "cell_type": "code",
      "source": [
        "import numpy as np\n",
        "import tensorflow as tf\n",
        "from tensorflow.keras.preprocessing.image import ImageDataGenerator\n",
        "\n",
        "\n",
        "train_directory = '/content/drive/MyDrive/Colab Notebooks/DS/Training_ds/'\n",
        "validation_directory = '/content/drive/MyDrive/Colab Notebooks/DS/validation_ds/'\n",
        "\n",
        "\n",
        "image_height, image_width = 128, 128\n",
        "batch_size = 32\n",
        "\n",
        "\n",
        "datagen = ImageDataGenerator(\n",
        "    rescale=1.0/255.0,\n",
        "   shear_range=0.2,\n",
        "    zoom_range=0.2,\n",
        "\n",
        ")\n",
        "\n",
        "\n",
        "train_generator = datagen.flow_from_directory(\n",
        "    train_directory,\n",
        "    target_size=(image_height, image_width),\n",
        "    batch_size=batch_size,\n",
        "    class_mode='categorical',\n",
        "    shuffle=True\n",
        ")\n",
        "\n",
        "\n",
        "validation_generator = datagen.flow_from_directory(\n",
        "    validation_directory,\n",
        "    target_size=(image_height, image_width),\n",
        "    batch_size=batch_size,\n",
        "    class_mode='categorical'\n",
        ")\n",
        "\n",
        "\n"
      ],
      "metadata": {
        "colab": {
          "base_uri": "https://localhost:8080/"
        },
        "id": "zg3yBpiPYSmh",
        "outputId": "c8d13ea0-6baf-44d5-850a-a7483518873c"
      },
      "execution_count": 2,
      "outputs": [
        {
          "output_type": "stream",
          "name": "stdout",
          "text": [
            "Found 5755 images belonging to 7 classes.\n",
            "Found 383 images belonging to 7 classes.\n"
          ]
        }
      ]
    },
    {
      "cell_type": "markdown",
      "source": [
        "**Save Model after 5 Epochs during training to avoid memory issue**"
      ],
      "metadata": {
        "id": "BVpv9dveDroD"
      }
    },
    {
      "cell_type": "code",
      "source": [
        "from keras.callbacks import ModelCheckpoint\n",
        "\n",
        "checkpoint = ModelCheckpoint('/content/drive/MyDrive/Colab Notebooks/DS/checkpoint-{epoch:02d}.h5',\n",
        "                             save_weights_only=False,\n",
        "                             save_best_only=False,\n",
        "                             period=5)  # Save the model every 5 epochs"
      ],
      "metadata": {
        "id": "4zdBgqXr-KZH",
        "colab": {
          "base_uri": "https://localhost:8080/"
        },
        "outputId": "7e57b8e2-9cff-4788-8e70-16714b5e251a"
      },
      "execution_count": 4,
      "outputs": [
        {
          "output_type": "stream",
          "name": "stderr",
          "text": [
            "WARNING:tensorflow:`period` argument is deprecated. Please use `save_freq` to specify the frequency in number of batches seen.\n"
          ]
        }
      ]
    },
    {
      "cell_type": "markdown",
      "source": [
        "**Remove Faulty images from the dataset folder(Cropped)**"
      ],
      "metadata": {
        "id": "sJLIiQWnD4eq"
      }
    },
    {
      "cell_type": "code",
      "source": [
        "\n",
        "import os\n",
        "\n",
        "folder_path = '/content/drive/MyDrive/Colab Notebooks/DS/Training_ds/disgust/'\n",
        "image_filenames = [filename for filename in os.listdir(folder_path) if filename.endswith(('.jpg', '.jpeg', '.png'))]\n",
        "\n",
        "from PIL import Image\n",
        "\n",
        "for image_filename in image_filenames:\n",
        "    image_path = os.path.join(folder_path, image_filename)\n",
        "    try:\n",
        "        img = Image.open(image_path)\n",
        "    except PIL.UnidentifiedImageError as e:\n",
        "        print(f\"Error: Cannot identify image file: {image_path}\")"
      ],
      "metadata": {
        "id": "jrCq4wlYBiic"
      },
      "execution_count": 22,
      "outputs": []
    },
    {
      "cell_type": "markdown",
      "source": [
        "**Train Model**"
      ],
      "metadata": {
        "id": "FfGGALSMEE1_"
      }
    },
    {
      "cell_type": "code",
      "source": [
        "import numpy as np\n",
        "import tensorflow as tf\n",
        "from tensorflow.keras.preprocessing.image import ImageDataGenerator\n",
        "\n",
        "image_height, image_width = 128, 128\n",
        "batch_size = 32\n",
        "\n",
        "pre_trained_model = tf.keras.applications.MobileNetV2(weights='imagenet', include_top=False, input_shape=(image_height, image_width, 3))\n",
        "\n",
        "\n",
        "for layer in pre_trained_model.layers:\n",
        "    layer.trainable = False\n",
        "\n",
        "\n",
        "model = tf.keras.Sequential([\n",
        "    pre_trained_model,\n",
        "    tf.keras.layers.GlobalAveragePooling2D(),\n",
        "    tf.keras.layers.Dense(128, activation='relu'),\n",
        "    tf.keras.layers.Dropout(0.5),\n",
        "    tf.keras.layers.Dense(7, activation='softmax')\n",
        "])\n",
        "\n",
        "\n",
        "model.compile(optimizer='adam',\n",
        "              loss='categorical_crossentropy',\n",
        "              metrics=['accuracy'])\n",
        "# model.compile(optimizer=tf.keras.optimizers.Adam(lr=0.001),\n",
        "#               loss='categorical_crossentropy',\n",
        "#               metrics=['accuracy'])\n",
        "\n",
        "epochs = 30\n",
        "# for epoch in range(epochs):\n",
        "#     print(f\"Epoch {epoch+1}/{epochs}\")\n",
        "#     for step, (x, y) in enumerate(train_generator):\n",
        "#         try:\n",
        "#             history = model.train_on_batch(x, y)\n",
        "#         except PIL.UnidentifiedImageError as e:\n",
        "#             print(f\"Error: Cannot identify image file in batch {step}. Skipping batch.\")\n",
        "#\n",
        "#             continue\n",
        "#         print(f\"Step {step+1}/{len(train_generator)} - Loss: {history[0]:.4f}, Accuracy: {history[1]:.4f}\")\n",
        "\n",
        "history=model.fit(train_generator,\n",
        "          epochs=epochs,\n",
        "          validation_data=validation_generator, callbacks=[checkpoint])\n"
      ],
      "metadata": {
        "colab": {
          "base_uri": "https://localhost:8080/"
        },
        "id": "vtcH_Z00cEay",
        "outputId": "76330667-9377-44df-9778-63f3b1e53f54"
      },
      "execution_count": null,
      "outputs": [
        {
          "output_type": "stream",
          "name": "stdout",
          "text": [
            "Epoch 1/30\n",
            "180/180 [==============================] - 144s 734ms/step - loss: 1.3544 - accuracy: 0.5576 - val_loss: 1.8887 - val_accuracy: 0.2533\n",
            "Epoch 2/30\n",
            "180/180 [==============================] - 127s 703ms/step - loss: 1.1848 - accuracy: 0.5934 - val_loss: 1.9563 - val_accuracy: 0.2402\n",
            "Epoch 3/30\n",
            "180/180 [==============================] - 127s 707ms/step - loss: 1.1478 - accuracy: 0.6028 - val_loss: 2.0678 - val_accuracy: 0.2637\n",
            "Epoch 4/30\n",
            "180/180 [==============================] - 125s 694ms/step - loss: 1.1171 - accuracy: 0.5997 - val_loss: 1.8550 - val_accuracy: 0.2742\n",
            "Epoch 5/30\n",
            "180/180 [==============================] - 127s 707ms/step - loss: 1.0930 - accuracy: 0.6109 - val_loss: 1.9015 - val_accuracy: 0.2454\n",
            "Epoch 6/30\n",
            "180/180 [==============================] - 126s 698ms/step - loss: 1.0904 - accuracy: 0.6132 - val_loss: 1.8923 - val_accuracy: 0.2507\n",
            "Epoch 7/30\n",
            "180/180 [==============================] - 127s 705ms/step - loss: 1.0687 - accuracy: 0.6109 - val_loss: 2.0760 - val_accuracy: 0.2298\n",
            "Epoch 8/30\n",
            "180/180 [==============================] - 125s 696ms/step - loss: 1.0519 - accuracy: 0.6182 - val_loss: 2.0069 - val_accuracy: 0.2611\n",
            "Epoch 9/30\n",
            "180/180 [==============================] - 121s 674ms/step - loss: 1.0421 - accuracy: 0.6210 - val_loss: 2.1178 - val_accuracy: 0.2611\n",
            "Epoch 10/30\n",
            "180/180 [==============================] - 125s 694ms/step - loss: 1.0506 - accuracy: 0.6222 - val_loss: 2.0052 - val_accuracy: 0.2689\n",
            "Epoch 11/30\n",
            "180/180 [==============================] - 124s 685ms/step - loss: 1.0288 - accuracy: 0.6236 - val_loss: 2.0678 - val_accuracy: 0.2794\n",
            "Epoch 12/30\n",
            "180/180 [==============================] - 122s 678ms/step - loss: 1.0074 - accuracy: 0.6302 - val_loss: 1.8309 - val_accuracy: 0.2924\n",
            "Epoch 13/30\n",
            "180/180 [==============================] - 122s 678ms/step - loss: 1.0143 - accuracy: 0.6354 - val_loss: 2.0191 - val_accuracy: 0.2611\n",
            "Epoch 14/30\n",
            "180/180 [==============================] - 123s 683ms/step - loss: 0.9992 - accuracy: 0.6341 - val_loss: 1.8342 - val_accuracy: 0.3264\n",
            "Epoch 15/30\n",
            "180/180 [==============================] - 129s 715ms/step - loss: 0.9949 - accuracy: 0.6302 - val_loss: 2.0103 - val_accuracy: 0.3003\n",
            "Epoch 16/30\n",
            "180/180 [==============================] - 123s 683ms/step - loss: 0.9856 - accuracy: 0.6381 - val_loss: 2.0625 - val_accuracy: 0.2350\n",
            "Epoch 17/30\n",
            "180/180 [==============================] - 124s 690ms/step - loss: 0.9716 - accuracy: 0.6405 - val_loss: 1.9614 - val_accuracy: 0.2794\n",
            "Epoch 18/30\n",
            "180/180 [==============================] - 126s 702ms/step - loss: 0.9729 - accuracy: 0.6353 - val_loss: 1.8899 - val_accuracy: 0.2950\n",
            "Epoch 19/30\n",
            "180/180 [==============================] - 127s 707ms/step - loss: 0.9726 - accuracy: 0.6400 - val_loss: 1.9599 - val_accuracy: 0.2768\n",
            "Epoch 20/30\n",
            "118/180 [==================>...........] - ETA: 39s - loss: 0.9608 - accuracy: 0.6455"
          ]
        }
      ]
    },
    {
      "cell_type": "markdown",
      "source": [
        "**Test Accuracy**"
      ],
      "metadata": {
        "id": "AmiP1HGcC7Q8"
      }
    },
    {
      "cell_type": "code",
      "source": [
        "y_true = validation_generator.classes\n",
        "validation_generator.reset()\n",
        "y_pred_probs = model.predict(validation_generator)\n",
        "y_pred = np.argmax(y_pred_probs, axis=1)\n",
        "\n",
        "\n",
        "accuracy = np.mean(y_true == y_pred)\n",
        "\n",
        "print(\"Accuracy:\", accuracy)"
      ],
      "metadata": {
        "colab": {
          "base_uri": "https://localhost:8080/"
        },
        "id": "gOZvLK2G9mJf",
        "outputId": "849c4e3e-fbd0-466d-856a-ad8b09b93288"
      },
      "execution_count": 6,
      "outputs": [
        {
          "output_type": "stream",
          "name": "stdout",
          "text": [
            "12/12 [==============================] - 13s 995ms/step\n",
            "Accuracy: 0.19843342036553524\n"
          ]
        }
      ]
    },
    {
      "cell_type": "markdown",
      "source": [
        "**Save Trained Model on Drive for future predictions**"
      ],
      "metadata": {
        "id": "FYOpC2zyCwBI"
      }
    },
    {
      "cell_type": "code",
      "source": [
        "import tensorflow as tf\n",
        "from tensorflow.keras.models import save_model\n",
        "model_path = '/content/drive/MyDrive/Colab Notebooks/DS/model.h5'\n",
        "model.save(model_path)\n",
        "\n",
        "print(\"Model saved successfully.\")"
      ],
      "metadata": {
        "id": "2pv1enKyBsK8"
      },
      "execution_count": null,
      "outputs": []
    },
    {
      "cell_type": "markdown",
      "source": [
        "**Load Saved Model from drive and predict**"
      ],
      "metadata": {
        "id": "ZVXC_0J0DIE1"
      }
    },
    {
      "cell_type": "code",
      "source": [
        "import tensorflow as tf\n",
        "from tensorflow.keras.models import load_model\n",
        "model_path = '/content/drive/MyDrive/Colab Notebooks/DS/model.h5'\n",
        "\n",
        "\n",
        "loaded_model = load_model(model_path)\n",
        "\n",
        "\n",
        "predictions = loaded_model.predict(new_data)"
      ],
      "metadata": {
        "id": "5ZXIQxh0CSQz"
      },
      "execution_count": null,
      "outputs": []
    },
    {
      "cell_type": "markdown",
      "source": [
        "**Count Number of images in Training and validation folder**"
      ],
      "metadata": {
        "id": "pltkOKFDEu7U"
      }
    },
    {
      "cell_type": "code",
      "execution_count": null,
      "metadata": {
        "id": "CgFhMtCBMOJ8"
      },
      "outputs": [],
      "source": [
        "import os\n",
        "\n",
        "\n",
        "num_train_images = len(os.listdir(train_directory))\n",
        "num_val_images = len(os.listdir(validation_directory))\n",
        "\n",
        "print(f\"Number of training images: {num_train_images}\")\n",
        "print(f\"Number of validation images: {num_val_images}\")\n"
      ]
    },
    {
      "cell_type": "code",
      "execution_count": null,
      "metadata": {
        "colab": {
          "base_uri": "https://localhost:8080/",
          "height": 900
        },
        "id": "8f1BXp3BMwqa",
        "outputId": "66d9028e-3cf0-4fbe-8e9b-93ffd1f8fcc1"
      },
      "outputs": [
        {
          "output_type": "display_data",
          "data": {
            "text/plain": [
              "<Figure size 1000x500 with 1 Axes>"
            ],
            "image/png": "[encoded data removed]"
          },
          "metadata": {}
        },
        {
          "output_type": "display_data",
          "data": {
            "text/plain": [
              "<Figure size 1000x500 with 1 Axes>"
            ],
            "image/png": "[encoded data removed]"
          },
          "metadata": {}
        }
      ],
      "source": [
        "import matplotlib.pyplot as plt\n",
        "\n",
        "# Extract loss and accuracy values from the training history\n",
        "loss = history.history['loss']\n",
        "accuracy = history.history['accuracy']\n",
        "\n",
        "# Plot the loss\n",
        "plt.figure(figsize=(10, 5))\n",
        "plt.plot(range(1, len(loss) + 1), loss, color='blue')\n",
        "plt.xlabel('Epochs')\n",
        "plt.ylabel('Loss')\n",
        "plt.title('Training Loss')\n",
        "plt.grid(True)\n",
        "plt.show()\n",
        "\n",
        "# Plot the accuracy\n",
        "plt.figure(figsize=(10, 5))\n",
        "plt.plot(range(1, len(accuracy) + 1), accuracy, color='red')\n",
        "plt.xlabel('Epochs')\n",
        "plt.ylabel('Accuracy')\n",
        "plt.title('Training Accuracy')\n",
        "plt.grid(True)\n",
        "plt.show()"
      ]
    },
    {
      "cell_type": "code",
      "execution_count": null,
      "metadata": {
        "colab": {
          "base_uri": "https://localhost:8080/"
        },
        "id": "vRaUEX8XOsdT",
        "outputId": "062a790d-d289-4df9-d66c-04753b88bd6e"
      },
      "outputs": [
        {
          "output_type": "stream",
          "name": "stdout",
          "text": [
            "1/1 [==============================] - 0s 180ms/step\n",
            "Predicted Expression: fear\n"
          ]
        }
      ],
      "source": [
        "import numpy as np\n",
        "image_path = '/content/happy.jpeg'\n",
        "preprocessed_image = preprocess_img(image_path)\n",
        "input_image = np.expand_dims(preprocessed_image, axis=0)\n",
        "predictions = model.predict(input_image)\n",
        "predicted_class_index = np.argmax(predictions, axis=-1)\n",
        "expression_classes = {\n",
        "    0: \"angry\",\n",
        "    1: \"disgust\",\n",
        "    2: \"fear\",\n",
        "    3: \"happy\",\n",
        "    4: \"sad\",\n",
        "    5: \"surprise\",\n",
        "    6: \"neutral\"\n",
        "}\n",
        "\n",
        "predicted_expression = expression_classes[predicted_class_index[0]]\n",
        "print(\"Predicted Expression:\", predicted_expression)"
      ]
    },
    {
      "cell_type": "code",
      "source": [
        "import numpy as np\n",
        "import seaborn as sns\n",
        "import matplotlib.pyplot as plt\n",
        "from sklearn.metrics import confusion_matrix, classification_report\n",
        "\n",
        "\n",
        "y_true = validation_generator.classes\n",
        "validation_generator.reset()\n",
        "y_pred_probs = model.predict(validation_generator)\n",
        "y_pred = np.argmax(y_pred_probs, axis=1)\n",
        "\n",
        "\n",
        "conf_matrix = confusion_matrix(y_true, y_pred)\n",
        "\n",
        "\n",
        "class_names = list(validation_generator.class_indices.keys())\n",
        "\n",
        "plt.figure(figsize=(8, 6))\n",
        "sns.heatmap(conf_matrix, annot=True, fmt=\"d\", cmap=\"Blues\", xticklabels=class_names, yticklabels=class_names)\n",
        "plt.xlabel('Predicted Labels')\n",
        "plt.ylabel('True Labels')\n",
        "plt.title('Confusion Matrix')\n",
        "plt.show()\n"
      ],
      "metadata": {
        "colab": {
          "base_uri": "https://localhost:8080/",
          "height": 581
        },
        "id": "-q6xSQgUfHfu",
        "outputId": "2bfbed98-5594-4ec1-b06d-47ed6878dcb0"
      },
      "execution_count": null,
      "outputs": [
        {
          "output_type": "stream",
          "name": "stdout",
          "text": [
            "113/113 [==============================] - 19s 172ms/step\n"
          ]
        },
        {
          "output_type": "display_data",
          "data": {
            "text/plain": [
              "<Figure size 800x600 with 2 Axes>"
            ],
            "image/png": "[encoded data removed]"
          },
          "metadata": {}
        }
      ]
    },
    {
      "cell_type": "markdown",
      "source": [
        "**Load and train Model from the failed Epoch**"
      ],
      "metadata": {
        "id": "rnUSDAGLE71Q"
      }
    },
    {
      "cell_type": "code",
      "source": [
        "import tensorflow as tf\n",
        "checkpoint = tf.keras.callbacks.ModelCheckpoint('model_checkpoint.h5', save_best_only=True, save_weights_only=False)\n",
        "\n",
        "\n",
        "try:\n",
        "    model = tf.keras.models.load_model('model_checkpoint.h5')\n",
        "    print(\"Checkpoint loaded. Resuming training...\")\n",
        "except:\n",
        "    print(\"No checkpoint found. Starting training from scratch...\")\n",
        "\n",
        "\n",
        "history = model.fit(train_generator,\n",
        "                    epochs=epochs,\n",
        "                    initial_epoch=0,\n",
        "                    validation_data=validation_generator,\n",
        "                    callbacks=[checkpoint])"
      ],
      "metadata": {
        "id": "RxFuq1pGYTe9"
      },
      "execution_count": null,
      "outputs": []
    }
  ],
  "metadata": {
    "accelerator": "GPU",
    "colab": {
      "provenance": [],
      "mount_file_id": "1Aus8gztNtBOuZfwu_2-ZadoitkvZdimA",
      "authorship_tag": "ABX9TyN20VY2ZDA/tN2zqGMZwYsD",
      "include_colab_link": true
    },
    "kernelspec": {
      "display_name": "Python 3",
      "name": "python3"
    },
    "language_info": {
      "name": "python"
    }
  },
  "nbformat": 4,
  "nbformat_minor": 0
}