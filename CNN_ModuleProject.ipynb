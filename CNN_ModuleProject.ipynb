{
  "cells": [
    {
      "cell_type": "markdown",
      "metadata": {
        "id": "view-in-github",
        "colab_type": "text"
      },
      "source": [
        "<a href=\"https://colab.research.google.com/github/waqarmm/AI-Labs/blob/Lab4/CNN_ModuleProject.ipynb\" target=\"_parent\"><img src=\"https://colab.research.google.com/assets/colab-badge.svg\" alt=\"Open In Colab\"/></a>"
      ]
    },
    {
      "cell_type": "code",
      "execution_count": null,
      "metadata": {
        "colab": {
          "base_uri": "https://localhost:8080/"
        },
        "id": "eEvbJ1Yv8lDr",
        "outputId": "f8d24e7d-5295-4dfa-d718-864976906275"
      },
      "outputs": [
        {
          "name": "stdout",
          "output_type": "stream",
          "text": [
            "File Count: 45496\n"
          ]
        }
      ],
      "source": [
        "import fnmatch\n",
        "\n",
        "dir_path = r'/content/drive/MyDrive/origin1'\n",
        "count = len(fnmatch.filter(os.listdir(dir_path), '*.*'))\n",
        "print('File Count:', count)"
      ]
    },
    {
      "cell_type": "code",
      "execution_count": null,
      "metadata": {
        "colab": {
          "base_uri": "https://localhost:8080/"
        },
        "id": "rr5-w1t7Alx2",
        "outputId": "d643721e-ee58-427c-a282-eb2174b0e1be"
      },
      "outputs": [
        {
          "data": {
            "text/plain": [
              "45496"
            ]
          },
          "execution_count": 9,
          "metadata": {},
          "output_type": "execute_result"
        }
      ],
      "source": [
        "len(os.listdir('/content/drive/MyDrive/origin1'))"
      ]
    },
    {
      "cell_type": "code",
      "execution_count": null,
      "metadata": {
        "colab": {
          "base_uri": "https://localhost:8080/"
        },
        "id": "UtZBU99Gpng5",
        "outputId": "ed07ce65-5ce9-418d-a2f5-42c7d853ffcc"
      },
      "outputs": [
        {
          "output_type": "stream",
          "name": "stdout",
          "text": [
            "Drive already mounted at /content/drive; to attempt to forcibly remount, call drive.mount(\"/content/drive\", force_remount=True).\n"
          ]
        }
      ],
      "source": [
        "from google.colab import drive\n",
        "drive.mount('/content/drive')"
      ]
    },
    {
      "cell_type": "code",
      "execution_count": null,
      "metadata": {
        "colab": {
          "base_uri": "https://localhost:8080/"
        },
        "id": "Uke_srZm6k9P",
        "outputId": "ec812098-cec6-4de5-ba18-4f0fe0a760c0"
      },
      "outputs": [
        {
          "name": "stdout",
          "output_type": "stream",
          "text": [
            "Number of images: 106962\n"
          ]
        }
      ],
      "source": [
        "import os\n",
        "\n",
        "images_directory = '/content/origin/'\n",
        "os.chdir(images_directory)\n",
        "image_extensions = ['.jpg', '.jpeg', '.png', '.gif', '.bmp']  # Add more if needed\n",
        "image_count = sum(1 for file in os.listdir('.') if file.lower().endswith(tuple(image_extensions)))\n",
        "\n",
        "print(\"Number of images:\", image_count)"
      ]
    },
    {
      "cell_type": "code",
      "execution_count": null,
      "metadata": {
        "colab": {
          "base_uri": "https://localhost:8080/"
        },
        "id": "VXaHhT40j3Gp",
        "outputId": "1bb531bb-da9a-4270-87a5-794e362a855a"
      },
      "outputs": [
        {
          "data": {
            "text/plain": [
              "106962"
            ]
          },
          "execution_count": 14,
          "metadata": {},
          "output_type": "execute_result"
        }
      ],
      "source": [
        "len(os.listdir('/content/origin/'))"
      ]
    },
    {
      "cell_type": "code",
      "execution_count": null,
      "metadata": {
        "id": "8YChvQvKln0s"
      },
      "outputs": [],
      "source": [
        "!cp -r '/content/origin/' '/content/drive/MyDrive/Colab Notebooks/'"
      ]
    },
    {
      "cell_type": "code",
      "execution_count": null,
      "metadata": {
        "colab": {
          "base_uri": "https://localhost:8080/"
        },
        "id": "2khtIuADsUMD",
        "outputId": "5c8008ab-0f3c-4fc4-89c9-fa893e6c7040"
      },
      "outputs": [
        {
          "name": "stdout",
          "output_type": "stream",
          "text": [
            "origin.7z.001  origin.7z.003  origin.7z.005  origin.7z.007\n",
            "origin.7z.002  origin.7z.004  origin.7z.006  origin.7z.008\n"
          ]
        }
      ],
      "source": [
        "ls '/content/drive/MyDrive/Colab Notebooks/data/image'"
      ]
    },
    {
      "cell_type": "code",
      "execution_count": null,
      "metadata": {
        "colab": {
          "base_uri": "https://localhost:8080/"
        },
        "id": "x0PSqGEzrSri",
        "outputId": "196bbe94-d5f7-4a91-b458-ee2414f05d00"
      },
      "outputs": [
        {
          "name": "stdout",
          "output_type": "stream",
          "text": [
            "label.lst  readme.txt\n"
          ]
        }
      ],
      "source": [
        "ls '/content/drive/MyDrive/Colab Notebooks/data/label'"
      ]
    },
    {
      "cell_type": "code",
      "execution_count": null,
      "metadata": {
        "id": "7ANZb51wn_RO"
      },
      "outputs": [],
      "source": [
        "!cd '/content/drive/MyDrive/Colab Notebooks/'"
      ]
    },
    {
      "cell_type": "code",
      "execution_count": null,
      "metadata": {
        "id": "l6opotSXo31H"
      },
      "outputs": [],
      "source": [
        "!mkdir '/content/drive/MyDrive/origin1_labels/'"
      ]
    },
    {
      "cell_type": "code",
      "execution_count": null,
      "metadata": {
        "id": "Mg7Dtv2-oTTF"
      },
      "outputs": [],
      "source": [
        "!mkdir labels"
      ]
    },
    {
      "cell_type": "code",
      "execution_count": null,
      "metadata": {
        "id": "tg_ObFVknuvp"
      },
      "outputs": [],
      "source": [
        "cp '/content/drive/MyDrive/Colab Notebooks/data/label/label.lst' '/content/drive/MyDrive/origin1_labels/'"
      ]
    },
    {
      "cell_type": "markdown",
      "source": [],
      "metadata": {
        "id": "ETKhtjzOqhNZ"
      }
    },
    {
      "cell_type": "code",
      "execution_count": null,
      "metadata": {
        "id": "pDUEsuSNrl4P"
      },
      "outputs": [],
      "source": []
    },
    {
      "cell_type": "markdown",
      "metadata": {
        "id": "lMC0hzSXsMZI"
      },
      "source": [
        "**Image Preprocessing **bold text** **"
      ]
    },
    {
      "cell_type": "code",
      "execution_count": null,
      "metadata": {
        "colab": {
          "background_save": true
        },
        "id": "BwX0NeJjeEtb"
      },
      "outputs": [],
      "source": [
        "import tensorflow as tf\n",
        "from tensorflow.keras.preprocessing.image import load_img,img_to_array\n",
        "def preprocess_img(path,target_size=(128,128)):\n",
        "\n",
        "  img=load_img(path,target_size=target_size)\n",
        "  img_array=img_to_array(img)\n",
        "  img_array=img_array/255.0\n",
        "  return img_array\n"
      ]
    },
    {
      "cell_type": "markdown",
      "source": [
        "**Crop and Resize Given dataset Images**"
      ],
      "metadata": {
        "id": "-Vw1v_FmDhOF"
      }
    },
    {
      "cell_type": "code",
      "execution_count": null,
      "metadata": {
        "id": "7ou120YQWByp",
        "colab": {
          "base_uri": "https://localhost:8080/"
        },
        "outputId": "5ba5afba-e73e-4d26-9216-36bd2546adbc"
      },
      "outputs": [
        {
          "output_type": "stream",
          "name": "stdout",
          "text": [
            "Cropped and resized face images saved to folder: /content/drive/MyDrive/Colab Notebooks/Cropped_Images/\n"
          ]
        }
      ],
      "source": [
        "import os\n",
        "import cv2\n",
        "\n",
        "output_folder = \"/content/drive/MyDrive/Colab Notebooks/Cropped_Images/\"\n",
        "os.makedirs(output_folder, exist_ok=True)\n",
        "\n",
        "with open(labels_path, 'r') as f:\n",
        "    for line in f:\n",
        "        values = line.strip().split()\n",
        "        img_name = values[0]\n",
        "        face_box_top = int(values[2])\n",
        "        face_box_left = int(values[3])\n",
        "        face_box_right = int(values[4])\n",
        "        face_box_bottom = int(values[5])\n",
        "        label = int(values[7])\n",
        "        img_path = os.path.join(dset_path, img_name)\n",
        "        img = cv2.imread(img_path)\n",
        "        if img is not None:\n",
        "            cropped_img = img[face_box_top:face_box_bottom, face_box_left:face_box_right]\n",
        "            if cropped_img is not None:\n",
        "                resized_face = cv2.resize(cropped_img, (128, 128))\n",
        "                normalized_face = resized_face / 255.0\n",
        "\n",
        "\n",
        "                output_filename = img_name\n",
        "\n",
        "\n",
        "                output_path = os.path.join(output_folder, output_filename)\n",
        "                cv2.imwrite(output_path, cropped_img)\n",
        "\n",
        "print(\"Cropped and resized!!\", output_folder)\n",
        "\n"
      ]
    },
    {
      "cell_type": "code",
      "source": [
        "import numpy as np\n",
        "import tensorflow as tf\n",
        "from tensorflow.keras.preprocessing.image import ImageDataGenerator\n",
        "\n",
        "\n",
        "train_directory = '/content/drive/MyDrive/Colab Notebooks/DS/Training_ds/'\n",
        "validation_directory = '/content/drive/MyDrive/Colab Notebooks/DS/validation_ds/'\n",
        "\n",
        "\n",
        "image_height, image_width = 128, 128\n",
        "batch_size = 32\n",
        "\n",
        "\n",
        "datagen = ImageDataGenerator(\n",
        "    rescale=1.0/255.0,\n",
        "   shear_range=0.2,\n",
        "    zoom_range=0.2,\n",
        "\n",
        ")\n",
        "\n",
        "\n",
        "train_generator = datagen.flow_from_directory(\n",
        "    train_directory,\n",
        "    target_size=(image_height, image_width),\n",
        "    batch_size=batch_size,\n",
        "    class_mode='categorical',\n",
        "    shuffle=True\n",
        ")\n",
        "\n",
        "\n",
        "validation_generator = datagen.flow_from_directory(\n",
        "    validation_directory,\n",
        "    target_size=(image_height, image_width),\n",
        "    batch_size=batch_size,\n",
        "    class_mode='categorical'\n",
        ")\n",
        "\n",
        "\n"
      ],
      "metadata": {
        "colab": {
          "base_uri": "https://localhost:8080/"
        },
        "id": "zg3yBpiPYSmh",
        "outputId": "c8d13ea0-6baf-44d5-850a-a7483518873c"
      },
      "execution_count": 2,
      "outputs": [
        {
          "output_type": "stream",
          "name": "stdout",
          "text": [
            "Found 5755 images belonging to 7 classes.\n",
            "Found 383 images belonging to 7 classes.\n"
          ]
        }
      ]
    },
    {
      "cell_type": "markdown",
      "source": [
        "**Save Model after 5 Epochs during training to avoid memory issue**"
      ],
      "metadata": {
        "id": "BVpv9dveDroD"
      }
    },
    {
      "cell_type": "code",
      "source": [
        "from keras.callbacks import ModelCheckpoint\n",
        "\n",
        "checkpoint = ModelCheckpoint('/content/drive/MyDrive/Colab Notebooks/DS/checkpoint-{epoch:02d}.h5',\n",
        "                             save_weights_only=False,\n",
        "                             save_best_only=False,\n",
        "                             period=5)  # Save the model every 5 epochs"
      ],
      "metadata": {
        "id": "4zdBgqXr-KZH",
        "colab": {
          "base_uri": "https://localhost:8080/"
        },
        "outputId": "7e57b8e2-9cff-4788-8e70-16714b5e251a"
      },
      "execution_count": 4,
      "outputs": [
        {
          "output_type": "stream",
          "name": "stderr",
          "text": [
            "WARNING:tensorflow:`period` argument is deprecated. Please use `save_freq` to specify the frequency in number of batches seen.\n"
          ]
        }
      ]
    },
    {
      "cell_type": "markdown",
      "source": [
        "**Remove Faulty images from the dataset folder(Cropped)**"
      ],
      "metadata": {
        "id": "sJLIiQWnD4eq"
      }
    },
    {
      "cell_type": "code",
      "source": [
        "\n",
        "import os\n",
        "\n",
        "folder_path = '/content/drive/MyDrive/Colab Notebooks/DS/Training_ds/disgust/'\n",
        "image_filenames = [filename for filename in os.listdir(folder_path) if filename.endswith(('.jpg', '.jpeg', '.png'))]\n",
        "\n",
        "from PIL import Image\n",
        "\n",
        "for image_filename in image_filenames:\n",
        "    image_path = os.path.join(folder_path, image_filename)\n",
        "    try:\n",
        "        img = Image.open(image_path)\n",
        "    except PIL.UnidentifiedImageError as e:\n",
        "        print(f\"Error: Cannot identify image file: {image_path}\")"
      ],
      "metadata": {
        "id": "jrCq4wlYBiic"
      },
      "execution_count": 22,
      "outputs": []
    },
    {
      "cell_type": "markdown",
      "source": [
        "**Train Model**"
      ],
      "metadata": {
        "id": "FfGGALSMEE1_"
      }
    },
    {
      "cell_type": "code",
      "source": [
        "import numpy as np\n",
        "import tensorflow as tf\n",
        "from tensorflow.keras.preprocessing.image import ImageDataGenerator\n",
        "\n",
        "image_height, image_width = 128, 128\n",
        "batch_size = 32\n",
        "\n",
        "pre_trained_model = tf.keras.applications.MobileNetV2(weights='imagenet', include_top=False, input_shape=(image_height, image_width, 3))\n",
        "\n",
        "\n",
        "for layer in pre_trained_model.layers:\n",
        "    layer.trainable = False\n",
        "\n",
        "\n",
        "model = tf.keras.Sequential([\n",
        "    pre_trained_model,\n",
        "    tf.keras.layers.GlobalAveragePooling2D(),\n",
        "    tf.keras.layers.Dense(128, activation='relu'),\n",
        "    tf.keras.layers.Dropout(0.5),\n",
        "    tf.keras.layers.Dense(7, activation='softmax')\n",
        "])\n",
        "\n",
        "\n",
        "model.compile(optimizer='adam',\n",
        "              loss='categorical_crossentropy',\n",
        "              metrics=['accuracy'])\n",
        "# model.compile(optimizer=tf.keras.optimizers.Adam(lr=0.001),\n",
        "#               loss='categorical_crossentropy',\n",
        "#               metrics=['accuracy'])\n",
        "\n",
        "epochs = 30\n",
        "# for epoch in range(epochs):\n",
        "#     print(f\"Epoch {epoch+1}/{epochs}\")\n",
        "#     for step, (x, y) in enumerate(train_generator):\n",
        "#         try:\n",
        "#             history = model.train_on_batch(x, y)\n",
        "#         except PIL.UnidentifiedImageError as e:\n",
        "#             print(f\"Error: Cannot identify image file in batch {step}. Skipping batch.\")\n",
        "#\n",
        "#             continue\n",
        "#         print(f\"Step {step+1}/{len(train_generator)} - Loss: {history[0]:.4f}, Accuracy: {history[1]:.4f}\")\n",
        "\n",
        "history=model.fit(train_generator,\n",
        "          epochs=epochs,\n",
        "          validation_data=validation_generator, callbacks=[checkpoint])\n"
      ],
      "metadata": {
        "colab": {
          "base_uri": "https://localhost:8080/"
        },
        "id": "vtcH_Z00cEay",
        "outputId": "802a5df9-0766-4e65-a468-576628caa6ba"
      },
      "execution_count": 7,
      "outputs": [
        {
          "output_type": "stream",
          "name": "stdout",
          "text": [
            "Epoch 1/30\n",
            "180/180 [==============================] - 144s 734ms/step - loss: 1.3544 - accuracy: 0.5576 - val_loss: 1.8887 - val_accuracy: 0.2533\n",
            "Epoch 2/30\n",
            "180/180 [==============================] - 127s 703ms/step - loss: 1.1848 - accuracy: 0.5934 - val_loss: 1.9563 - val_accuracy: 0.2402\n",
            "Epoch 3/30\n",
            "180/180 [==============================] - 127s 707ms/step - loss: 1.1478 - accuracy: 0.6028 - val_loss: 2.0678 - val_accuracy: 0.2637\n",
            "Epoch 4/30\n",
            "180/180 [==============================] - 125s 694ms/step - loss: 1.1171 - accuracy: 0.5997 - val_loss: 1.8550 - val_accuracy: 0.2742\n",
            "Epoch 5/30\n",
            "180/180 [==============================] - 127s 707ms/step - loss: 1.0930 - accuracy: 0.6109 - val_loss: 1.9015 - val_accuracy: 0.2454\n",
            "Epoch 6/30\n",
            "180/180 [==============================] - 126s 698ms/step - loss: 1.0904 - accuracy: 0.6132 - val_loss: 1.8923 - val_accuracy: 0.2507\n",
            "Epoch 7/30\n",
            "180/180 [==============================] - 127s 705ms/step - loss: 1.0687 - accuracy: 0.6109 - val_loss: 2.0760 - val_accuracy: 0.2298\n",
            "Epoch 8/30\n",
            "180/180 [==============================] - 125s 696ms/step - loss: 1.0519 - accuracy: 0.6182 - val_loss: 2.0069 - val_accuracy: 0.2611\n",
            "Epoch 9/30\n",
            "180/180 [==============================] - 121s 674ms/step - loss: 1.0421 - accuracy: 0.6210 - val_loss: 2.1178 - val_accuracy: 0.2611\n",
            "Epoch 10/30\n",
            "180/180 [==============================] - 125s 694ms/step - loss: 1.0506 - accuracy: 0.6222 - val_loss: 2.0052 - val_accuracy: 0.2689\n",
            "Epoch 11/30\n",
            "180/180 [==============================] - 124s 685ms/step - loss: 1.0288 - accuracy: 0.6236 - val_loss: 2.0678 - val_accuracy: 0.2794\n",
            "Epoch 12/30\n",
            "180/180 [==============================] - 122s 678ms/step - loss: 1.0074 - accuracy: 0.6302 - val_loss: 1.8309 - val_accuracy: 0.2924\n",
            "Epoch 13/30\n",
            "180/180 [==============================] - 122s 678ms/step - loss: 1.0143 - accuracy: 0.6354 - val_loss: 2.0191 - val_accuracy: 0.2611\n",
            "Epoch 14/30\n",
            "180/180 [==============================] - 123s 683ms/step - loss: 0.9992 - accuracy: 0.6341 - val_loss: 1.8342 - val_accuracy: 0.3264\n",
            "Epoch 15/30\n",
            "180/180 [==============================] - 129s 715ms/step - loss: 0.9949 - accuracy: 0.6302 - val_loss: 2.0103 - val_accuracy: 0.3003\n",
            "Epoch 16/30\n",
            "180/180 [==============================] - 123s 683ms/step - loss: 0.9856 - accuracy: 0.6381 - val_loss: 2.0625 - val_accuracy: 0.2350\n",
            "Epoch 17/30\n",
            "180/180 [==============================] - 124s 690ms/step - loss: 0.9716 - accuracy: 0.6405 - val_loss: 1.9614 - val_accuracy: 0.2794\n",
            "Epoch 18/30\n",
            "180/180 [==============================] - 126s 702ms/step - loss: 0.9729 - accuracy: 0.6353 - val_loss: 1.8899 - val_accuracy: 0.2950\n",
            "Epoch 19/30\n",
            "180/180 [==============================] - 127s 707ms/step - loss: 0.9726 - accuracy: 0.6400 - val_loss: 1.9599 - val_accuracy: 0.2768\n",
            "Epoch 20/30\n",

            "118/180 [==================>...........] - ETA: 39s - loss: 0.9608 - accuracy: 0.6455"

            "180/180 [==============================] - 127s 703ms/step - loss: 0.9675 - accuracy: 0.6445 - val_loss: 1.8959 - val_accuracy: 0.2846\n",
            "Epoch 21/30\n",
            "180/180 [==============================] - 129s 717ms/step - loss: 0.9582 - accuracy: 0.6462 - val_loss: 1.9029 - val_accuracy: 0.2977\n",
            "Epoch 22/30\n",
            "180/180 [==============================] - 125s 696ms/step - loss: 0.9461 - accuracy: 0.6457 - val_loss: 2.0231 - val_accuracy: 0.2689\n",
            "Epoch 23/30\n",
            "180/180 [==============================] - 126s 701ms/step - loss: 0.9432 - accuracy: 0.6454 - val_loss: 1.9943 - val_accuracy: 0.3107\n",
            "Epoch 24/30\n",
            "180/180 [==============================] - 124s 688ms/step - loss: 0.9333 - accuracy: 0.6516 - val_loss: 2.0126 - val_accuracy: 0.2794\n",
            "Epoch 25/30\n",
            "180/180 [==============================] - 125s 691ms/step - loss: 0.9170 - accuracy: 0.6499 - val_loss: 1.8661 - val_accuracy: 0.3003\n",
            "Epoch 26/30\n",
            "180/180 [==============================] - 124s 687ms/step - loss: 0.9137 - accuracy: 0.6521 - val_loss: 2.1105 - val_accuracy: 0.2585\n",
            "Epoch 27/30\n",
            "180/180 [==============================] - 125s 691ms/step - loss: 0.9132 - accuracy: 0.6560 - val_loss: 2.0134 - val_accuracy: 0.2898\n",
            "Epoch 28/30\n",
            "180/180 [==============================] - 124s 687ms/step - loss: 0.9077 - accuracy: 0.6553 - val_loss: 2.1471 - val_accuracy: 0.3003\n",
            "Epoch 29/30\n",
            "180/180 [==============================] - 125s 694ms/step - loss: 0.9066 - accuracy: 0.6586 - val_loss: 2.1350 - val_accuracy: 0.3055\n",
            "Epoch 30/30\n",
            "180/180 [==============================] - 128s 713ms/step - loss: 0.8948 - accuracy: 0.6615 - val_loss: 1.9695 - val_accuracy: 0.2794\n"

          ]
        }
      ]
    },
    {
      "cell_type": "markdown",
      "source": [
        "**Test Accuracy**"
      ],
      "metadata": {
        "id": "AmiP1HGcC7Q8"
      }
    },
    {
      "cell_type": "code",
      "source": [
        "y_true = validation_generator.classes\n",
        "validation_generator.reset()\n",
        "y_pred_probs = model.predict(validation_generator)\n",
        "y_pred = np.argmax(y_pred_probs, axis=1)\n",
        "\n",
        "\n",
        "accuracy = np.mean(y_true == y_pred)\n",
        "\n",
        "print(\"Accuracy:\", accuracy)"
      ],
      "metadata": {
        "colab": {
          "base_uri": "https://localhost:8080/"
        },
        "id": "gOZvLK2G9mJf",
        "outputId": "a629bf74-1d62-447a-946d-c360d65edd8d"
      },
      "execution_count": 8,
      "outputs": [
        {
          "output_type": "stream",
          "name": "stdout",
          "text": [
            "12/12 [==============================] - 13s 1s/step\n",
            "Accuracy: 0.1906005221932115\n"
          ]
        }
      ]
    },
    {
      "cell_type": "markdown",
      "source": [
        "**Save Trained Model on Drive for future predictions**"
      ],
      "metadata": {
        "id": "FYOpC2zyCwBI"
      }
    },
    {
      "cell_type": "code",
      "source": [
        "import tensorflow as tf\n",
        "from tensorflow.keras.models import save_model\n",
        "model_path = '/content/drive/MyDrive/Colab Notebooks/DS/model.h5'\n",
        "model.save(model_path)\n",
        "\n",
        "print(\"Model saved successfully.\")"
      ],
      "metadata": {
        "colab": {
          "base_uri": "https://localhost:8080/"
        },
        "id": "2pv1enKyBsK8",
        "outputId": "e74c059f-960c-4326-d4e7-417eeeb9f197"
      },
      "execution_count": 9,
      "outputs": [
        {
          "output_type": "stream",
          "name": "stdout",
          "text": [
            "Model saved successfully.\n"
          ]
        }
      ]
    },
    {
      "cell_type": "markdown",
      "source": [
        "**Load Saved Model from drive and predict**"
      ],
      "metadata": {
        "id": "ZVXC_0J0DIE1"
      }
    },
    {
      "cell_type": "code",
      "source": [
        "import tensorflow as tf\n",
        "from tensorflow.keras.models import load_model\n",
        "model_path = '/content/drive/MyDrive/Colab Notebooks/DS/model.h5'\n",
        "\n",
        "\n",
        "loaded_model = load_model(model_path)\n",
        "\n",
        "\n",
        "predictions = loaded_model.predict(new_data)"
      ],
      "metadata": {
        "id": "5ZXIQxh0CSQz"
      },
      "execution_count": null,
      "outputs": []
    },
    {
      "cell_type": "markdown",
      "source": [
        "**Count Number of images in Training and validation folder**"
      ],
      "metadata": {
        "id": "pltkOKFDEu7U"
      }
    },
    {
      "cell_type": "code",
      "execution_count": 10,
      "metadata": {
        "id": "CgFhMtCBMOJ8",
        "colab": {
          "base_uri": "https://localhost:8080/"
        },
        "outputId": "cc1f7aa8-2ab6-449c-cc5c-97a03944e1e5"
      },
      "outputs": [
        {
          "output_type": "stream",
          "name": "stdout",
          "text": [
            "Number of training images: 7\n",
            "Number of validation images: 7\n"
          ]
        }
      ],
      "source": [
        "import os\n",
        "\n",
        "\n",
        "num_train_images = len(os.listdir(train_directory))\n",
        "num_val_images = len(os.listdir(validation_directory))\n",
        "\n",
        "print(f\"Number of training images: {num_train_images}\")\n",
        "print(f\"Number of validation images: {num_val_images}\")\n"
      ]
    },
    {
      "cell_type": "code",
      "execution_count": 11,
      "metadata": {
        "colab": {
          "base_uri": "https://localhost:8080/",
          "height": 957
        },
        "id": "8f1BXp3BMwqa",
        "outputId": "c0ffe944-351f-4448-c407-1d82258eb040"
      },
      "outputs": [
        {
          "output_type": "display_data",
          "data": {
            "text/plain": [
              "<Figure size 1000x500 with 1 Axes>"
            ],
            "image/png": "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\n"
          },
          "metadata": {}
        },
        {
          "output_type": "display_data",
          "data": {
            "text/plain": [
              "<Figure size 1000x500 with 1 Axes>"
            ],
            "image/png": "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\n"
          },
          "metadata": {}
        }
      ],
      "source": [
        "import matplotlib.pyplot as plt\n",
        "\n",
        "# Extract loss and accuracy values from the training history\n",
        "loss = history.history['loss']\n",
        "accuracy = history.history['accuracy']\n",
        "\n",
        "# Plot the loss\n",
        "plt.figure(figsize=(10, 5))\n",
        "plt.plot(range(1, len(loss) + 1), loss, color='blue')\n",
        "plt.xlabel('Epochs')\n",
        "plt.ylabel('Loss')\n",
        "plt.title('Training Loss')\n",
        "plt.grid(True)\n",
        "plt.show()\n",
        "\n",
        "# Plot the accuracy\n",
        "plt.figure(figsize=(10, 5))\n",
        "plt.plot(range(1, len(accuracy) + 1), accuracy, color='red')\n",
        "plt.xlabel('Epochs')\n",
        "plt.ylabel('Accuracy')\n",
        "plt.title('Training Accuracy')\n",
        "plt.grid(True)\n",
        "plt.show()"
      ]
    },
    {
      "cell_type": "code",
      "execution_count": null,
      "metadata": {
        "id": "vRaUEX8XOsdT"
      },
      "outputs": [],
      "source": [
        "import numpy as np\n",
        "image_path = '/content/afraid_asian_7.jpg'\n",
        "preprocessed_image = preprocess_img(image_path)\n",
        "input_image = np.expand_dims(preprocessed_image, axis=0)\n",
        "predictions = model.predict(input_image)\n",
        "predicted_class_index = np.argmax(predictions, axis=-1)\n",
        "expression_classes = {\n",
        "    0: \"angry\",\n",
        "    1: \"disgust\",\n",
        "    2: \"fear\",\n",
        "    3: \"happy\",\n",
        "    4: \"sad\",\n",
        "    5: \"surprise\",\n",
        "    6: \"neutral\"\n",
        "}\n",
        "\n",
        "predicted_expression = expression_classes[predicted_class_index[0]]\n",
        "print(\"Predicted Expression:\", predicted_expression)"
      ]
    },
    {
      "cell_type": "code",
      "source": [
        "import numpy as np\n",
        "import seaborn as sns\n",
        "import matplotlib.pyplot as plt\n",
        "from sklearn.metrics import confusion_matrix, classification_report\n",
        "\n",
        "\n",
        "y_true = validation_generator.classes\n",
        "validation_generator.reset()\n",
        "y_pred_probs = model.predict(validation_generator)\n",
        "y_pred = np.argmax(y_pred_probs, axis=1)\n",
        "\n",
        "\n",
        "conf_matrix = confusion_matrix(y_true, y_pred)\n",
        "\n",
        "\n",
        "class_names = list(validation_generator.class_indices.keys())\n",
        "\n",
        "plt.figure(figsize=(8, 6))\n",
        "sns.heatmap(conf_matrix, annot=True, fmt=\"d\", cmap=\"Blues\", xticklabels=class_names, yticklabels=class_names)\n",
        "plt.xlabel('Predicted Labels')\n",
        "plt.ylabel('True Labels')\n",
        "plt.title('Confusion Matrix')\n",
        "plt.show()\n"
      ],
      "metadata": {
        "colab": {
          "base_uri": "https://localhost:8080/",
          "height": 581
        },
        "id": "-q6xSQgUfHfu",
        "outputId": "2107f956-8c52-42e1-8d9c-04d5f26200a2"
      },
      "execution_count": 13,
      "outputs": [
        {
          "output_type": "stream",
          "name": "stdout",
          "text": [
            "12/12 [==============================] - 7s 549ms/step\n"
          ]
        },
        {
          "output_type": "display_data",
          "data": {
            "text/plain": [
              "<Figure size 800x600 with 2 Axes>"
            ],
            "image/png": "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\n"
          },
          "metadata": {}
        }
      ]
    },
    {
      "cell_type": "markdown",
      "source": [
        "**Load and train Model from the failed Epoch**"
      ],
      "metadata": {
        "id": "rnUSDAGLE71Q"
      }
    },
    {
      "cell_type": "code",
      "source": [
        "import tensorflow as tf\n",
        "checkpoint = tf.keras.callbacks.ModelCheckpoint('model_checkpoint.h5', save_best_only=True, save_weights_only=False)\n",
        "\n",
        "\n",
        "try:\n",
        "    model = tf.keras.models.load_model('model_checkpoint.h5')\n",
        "    print(\"Checkpoint loaded. Resuming training...\")\n",
        "except:\n",
        "    print(\"No checkpoint found. Starting training from scratch...\")\n",
        "\n",
        "\n",
        "history = model.fit(train_generator,\n",
        "                    epochs=epochs,\n",
        "                    initial_epoch=0,\n",
        "                    validation_data=validation_generator,\n",
        "                    callbacks=[checkpoint])"
      ],
      "metadata": {
        "id": "RxFuq1pGYTe9"
      },
      "execution_count": null,
      "outputs": []
    }
  ],
  "metadata": {
    "accelerator": "GPU",
    "colab": {
      "provenance": [],
      "mount_file_id": "1Aus8gztNtBOuZfwu_2-ZadoitkvZdimA",

      "authorship_tag": "ABX9TyN20VY2ZDA/tN2zqGMZwYsD",

      "include_colab_link": true
    },
    "kernelspec": {
      "display_name": "Python 3",
      "name": "python3"
    },
    "language_info": {
      "name": "python"
    }
  },
  "nbformat": 4,
  "nbformat_minor": 0
}