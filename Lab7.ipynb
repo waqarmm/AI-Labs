{
  "nbformat": 4,
  "nbformat_minor": 0,
  "metadata": {
    "colab": {
      "provenance": [],
      "authorship_tag": "ABX9TyNYIu8Chx1zSbg4J5MI4XOu",
      "include_colab_link": true
    },
    "kernelspec": {
      "name": "python3",
      "display_name": "Python 3"
    },
    "language_info": {
      "name": "python"
    }
  },
  "cells": [
    {
      "cell_type": "markdown",
      "metadata": {
        "id": "view-in-github",
        "colab_type": "text"
      },
      "source": [
        "<a href=\"https://colab.research.google.com/github/waqarmm/AI-Labs/blob/master/Lab7.ipynb\" target=\"_parent\"><img src=\"https://colab.research.google.com/assets/colab-badge.svg\" alt=\"Open In Colab\"/></a>"
      ]
    },
    {
      "cell_type": "code",
      "execution_count": null,
      "metadata": {
        "id": "RELi8YAt5XC-"
      },
      "outputs": [],
      "source": [
        "import numpy as np\n",
        "\n",
        "a=np.array([1,2,3,4,5,6])\n",
        "print(a)\n",
        "\n",
        "print(type(a))\n",
        "\n",
        "print(a[5])\n"
      ]
    }
  ]
}