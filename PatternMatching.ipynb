{
  "nbformat": 4,
  "nbformat_minor": 0,
  "metadata": {
    "colab": {
      "provenance": [],
      "authorship_tag": "ABX9TyPDwyH/2ahbykRR7CgniJXt",
      "include_colab_link": true
    },
    "kernelspec": {
      "name": "python3",
      "display_name": "Python 3"
    },
    "language_info": {
      "name": "python"
    }
  },
  "cells": [
    {
      "cell_type": "markdown",
      "metadata": {
        "id": "view-in-github",
        "colab_type": "text"
      },
      "source": [
        "<a href=\"https://colab.research.google.com/github/waqarmm/AI-Labs/blob/master/PatternMatching.ipynb\" target=\"_parent\"><img src=\"https://colab.research.google.com/assets/colab-badge.svg\" alt=\"Open In Colab\"/></a>"
      ]
    },
    {
      "cell_type": "code",
      "source": [],
      "metadata": {
        "id": "XcZ7EroHBPZp"
      },
      "execution_count": null,
      "outputs": []
    },
    {
      "cell_type": "code",
      "source": [
        "import csv\n",
        "import difflib\n",
        "\n",
        "def extract_patterns(filename):\n",
        "    patterns = []\n",
        "    with open(filename, 'r') as file:\n",
        "        lines = file.readlines()\n",
        "\n",
        "    current_pattern = []\n",
        "    for line in lines:\n",
        "        line = line.strip()\n",
        "        if line == 'bb':\n",
        "            if current_pattern:\n",
        "                patterns.append(current_pattern.copy())\n",
        "            current_pattern = []\n",
        "        else:\n",
        "            current_pattern.append(int(line))\n",
        "    if current_pattern:\n",
        "        patterns.append(current_pattern)\n",
        "    return patterns\n",
        "\n",
        "\n",
        "def create_matrix(patterns):\n",
        "    # print(patterns,'patterns')\n",
        "    matrix = []\n",
        "    for pattern in patterns:\n",
        "        repetitions = patterns.count(pattern)\n",
        "        before_value = pattern[0] if pattern[0] != 0 else None\n",
        "        after_value = pattern[-1] if pattern[-1] != 0 else None\n",
        "        matrix.append((pattern, repetitions, before_value, after_value))\n",
        "    return matrix\n",
        "\n",
        "\n",
        "def compare_patterns(pattern1, pattern2):\n",
        "    print('compare pattern',difflib.SequenceMatcher(None, pattern1, pattern2).ratio())\n",
        "    return difflib.SequenceMatcher(None, pattern1, pattern2).ratio()\n",
        "\n",
        "def predict_next_value(expected_pattern, value_before_pattern, matrix):\n",
        "    while True:\n",
        "        print('expected_pattern',expected_pattern)\n",
        "        print('value_before_pattern',value_before_pattern)\n",
        "        print('matrix',matrix)\n",
        "        matching_rows = [row for row in matrix if compare_patterns(row[0], expected_pattern) > 0.2 ]\n",
        "        print(matching_rows)\n",
        "        if matching_rows:\n",
        "            max_repetitions = max(row[1] for row in matching_rows)\n",
        "            selected_row = [row for row in matching_rows if row[1] == max_repetitions][0]\n",
        "            return selected_row[3]\n",
        "\n",
        "        expected_pattern = expected_pattern[1:]\n",
        "        value_before_pattern = expected_pattern[0] if expected_pattern else value_before_pattern\n",
        "\n",
        "        if not expected_pattern:\n",
        "            break\n",
        "\n",
        "    return None\n",
        "\n",
        "\n",
        "if __name__ == \"__main__\":\n",
        "    filename = \"test_dataset.csv\"\n",
        "    patterns = extract_patterns(filename)\n",
        "    matrix = create_matrix(patterns)\n",
        "\n",
        "    expected_pattern = [1, 1, 0]\n",
        "    value_before_pattern = 0\n",
        "    prediction = predict_next_value(expected_pattern, value_before_pattern, matrix)\n",
        "\n",
        "    if prediction is not None:\n",
        "        print(\"Predicted value after the pattern:\", prediction)\n",
        "    else:\n",
        "        print(\"No suitable prediction found.\")\n"
      ],
      "metadata": {
        "id": "N4Ra1Q-rVcVZ",
        "colab": {
          "base_uri": "https://localhost:8080/"
        },
        "outputId": "8cb5998b-010f-4f0d-a22e-a0f3cbeab45d"
      },
      "execution_count": 52,
      "outputs": [
        {
          "output_type": "stream",
          "name": "stdout",
          "text": [
            "expected_pattern [1, 1, 0]\n",
            "value_before_pattern 0\n",
            "matrix [([0, 1, 1, 0, 1, 1, 1, 0, 1, 0, 0, 0, 1, 0, 0, 0, 1, 1, 1], 1, None, 1)]\n",
            "compare pattern 0.2727272727272727\n",
            "[([0, 1, 1, 0, 1, 1, 1, 0, 1, 0, 0, 0, 1, 0, 0, 0, 1, 1, 1], 1, None, 1)]\n",
            "Predicted value after the pattern: 1\n"
          ]
        }
      ]
    }
  ]
}